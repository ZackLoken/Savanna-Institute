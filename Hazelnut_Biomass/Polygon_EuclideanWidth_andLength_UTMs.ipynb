{
 "cells": [
  {
   "cell_type": "code",
   "execution_count": 1,
   "metadata": {},
   "outputs": [],
   "source": [
    "import pandas as pd\n",
    "import numpy as np\n",
    "import matplotlib.pyplot as plt\n",
    "\n",
    "# Load the data from csv file here: \"S:\\Zack\\Imagery\\Hazelnut\\WPP_Farm_LiDAR\\ArcGIS_Pro_WPP_Farm_LiDAR\\WPP_BlockB_Hazelnut_CrossDim_HW.csv\"\n",
    "data = pd.read_csv(\"S:\\Zack\\Imagery\\Hazelnut\\WPP_Farm_LiDAR\\ArcGIS_Pro_WPP_Farm_LiDAR\\WPP_BlockB_Hazelnut_SfM_VertexCoords.csv\")"
   ]
  },
  {
   "cell_type": "code",
   "execution_count": 2,
   "metadata": {},
   "outputs": [
    {
     "name": "stdout",
     "output_type": "stream",
     "text": [
      "Index(['treeID', 'area', 'diameter', 'ORIG_FID', 'volume', 'xmin', 'xmax',\n",
      "       'width', 'y_xmax', 'y_xmin', 'POINT_Y', 'ymin', 'ymax', 'height',\n",
      "       'x_ymax', 'x_ymin', 'POINT_X'],\n",
      "      dtype='object')\n"
     ]
    }
   ],
   "source": [
    "# list columns in data\n",
    "print(data.columns)"
   ]
  },
  {
   "cell_type": "code",
   "execution_count": 3,
   "metadata": {},
   "outputs": [
    {
     "name": "stdout",
     "output_type": "stream",
     "text": [
      "       treeID       area  diameter  ORIG_FID     volume         xmin  \\\n",
      "0          99   7.422937  3.403003         0  10.574112  396329.1404   \n",
      "2409      100   7.522573  0.068171         1  10.169464  396338.0000   \n",
      "5240      102   6.049380  0.031915         2   7.830704  396343.1434   \n",
      "7843      104  12.339207  4.096281         3  15.086003  396348.6164   \n",
      "12773     105   4.883722  1.741400         4   6.130027  396353.3100   \n",
      "\n",
      "              xmax   width  y_xmax  y_xmin         ymin         ymax  height  \\\n",
      "0      396332.2313  3.0909       0       0  4437268.275  4437271.515   3.240   \n",
      "2409   396341.8550  3.8550       0       0  4437268.195  4437271.595   3.400   \n",
      "5240   396346.3851  3.2417       0       0  4437268.280  4437271.070   2.790   \n",
      "7843   396353.5800  4.9636       0       0  4437267.770  4437271.850   4.080   \n",
      "12773  396355.9338  2.6238       0       0  4437268.395  4437271.400   3.005   \n",
      "\n",
      "       x_ymax  x_ymin  \n",
      "0         NaN     NaN  \n",
      "2409      NaN     NaN  \n",
      "5240      NaN     NaN  \n",
      "7843      NaN     NaN  \n",
      "12773     NaN     NaN  \n"
     ]
    }
   ],
   "source": [
    "new_data = data.copy()\n",
    "\n",
    "# only keep the first row of each unique treeID\n",
    "new_data = new_data.drop_duplicates(subset='treeID')\n",
    "\n",
    "# drop POINT_X and POINT_Y columns\n",
    "new_data = new_data.drop(columns=['POINT_X', 'POINT_Y'])\n",
    "\n",
    "# print first 5 rows\n",
    "print(new_data.head())\n"
   ]
  },
  {
   "cell_type": "code",
   "execution_count": 8,
   "metadata": {},
   "outputs": [],
   "source": [
    "# calculate euclidean width, length, and diameter for each tree\n",
    "# new_data.loc[:, 'euclidean_width'] = np.nan\n",
    "# new_data.loc[:, 'euclidean_length'] = np.nan\n",
    "# new_data.loc[:, 'diameter'] = np.nan\n",
    "\n",
    "for treeID in new_data['treeID']:\n",
    "    tree = data[data['treeID'] == treeID].copy()\n",
    "    tree.loc[:, 'x_ymin'] = min(tree.loc[tree['POINT_Y'] == tree['POINT_Y'].min(), 'POINT_X'])\n",
    "    tree.loc[:, 'x_ymax'] = max(tree.loc[tree['POINT_Y'] == tree['POINT_Y'].max(), 'POINT_X'])\n",
    "    tree.loc[:, 'y_xmin'] = min(tree.loc[tree['POINT_X'] == tree['POINT_X'].min(), 'POINT_Y'])\n",
    "    tree.loc[:, 'y_xmax'] = max(tree.loc[tree['POINT_X'] == tree['POINT_X'].max(), 'POINT_Y'])\n",
    "    tree.loc[:, 'euclidean_width'] = np.sqrt(((tree['xmax'] - tree['xmin'])**2 + (tree['y_xmax'] - tree['y_xmin'])**2))\n",
    "    tree.loc[:, 'euclidean_length'] = np.sqrt(((tree['ymax'] - tree['ymin'])**2 + (tree['x_ymax'] - tree['x_ymin'])**2))\n",
    "\n",
    "    # # find diameter (this takes a while to execute)\n",
    "    # max_distance = 0\n",
    "    # for i in range(len(tree)):\n",
    "    #     for j in range(i+1, len(tree)):\n",
    "    #         # diameter is longest euclidean distance between any two points\n",
    "    #         distance = np.sqrt((tree.iloc[i]['POINT_X'] - tree.iloc[j]['POINT_X'])**2 + (tree.iloc[i]['POINT_Y'] - tree.iloc[j]['POINT_Y'])**2)\n",
    "    #         if distance > max_distance:\n",
    "    #             max_distance = distance\n",
    "\n",
    "    # new_data.loc[new_data['treeID'] == treeID, 'diameter'] = max_distance\n",
    "    new_data.loc[new_data['treeID'] == treeID, 'euclidean_width'] = tree['euclidean_width'].values[0]\n",
    "    new_data.loc[new_data['treeID'] == treeID, 'euclidean_length'] = tree['euclidean_length'].values[0]\n",
    "    new_data.loc[new_data['treeID'] == treeID, 'x_ymin'] = float(tree['x_ymin'].values[0])\n",
    "    new_data.loc[new_data['treeID'] == treeID, 'x_ymax'] = float(tree['x_ymax'].values[0])\n",
    "    new_data.loc[new_data['treeID'] == treeID, 'y_xmin'] = float(tree['y_xmin'].values[0])\n",
    "    new_data.loc[new_data['treeID'] == treeID, 'y_xmax'] = float(tree['y_xmax'].values[0])"
   ]
  },
  {
   "cell_type": "code",
   "execution_count": 9,
   "metadata": {},
   "outputs": [
    {
     "name": "stdout",
     "output_type": "stream",
     "text": [
      "       treeID       area  diameter  ORIG_FID     volume         xmin  \\\n",
      "0          99   7.422937  3.557081         0  10.574112  396329.1404   \n",
      "2409      100   7.522573  4.134737         1  10.169464  396338.0000   \n",
      "5240      102   6.049380  3.598017         2   7.830704  396343.1434   \n",
      "7843      104  12.339207  4.977972         3  15.086003  396348.6164   \n",
      "12773     105   4.883722  3.367555         4   6.130027  396353.3100   \n",
      "\n",
      "              xmax   width       y_xmax       y_xmin         ymin  \\\n",
      "0      396332.2313  3.0909  4437270.643  4437269.153  4437268.275   \n",
      "2409   396341.8550  3.8550  4437268.795  4437270.205  4437268.195   \n",
      "5240   396346.3851  3.2417  4437269.586  4437270.633  4437268.280   \n",
      "7843   396353.5800  4.9636  4437269.035  4437269.390  4437267.770   \n",
      "12773  396355.9338  2.6238  4437268.932  4437269.580  4437268.395   \n",
      "\n",
      "              ymax  height      x_ymax      x_ymin  euclidean_width  \\\n",
      "0      4437271.515   3.240  396330.555  396330.580         3.431292   \n",
      "2409   4437271.595   3.400  396339.785  396339.510         4.104769   \n",
      "5240   4437271.070   2.790  396343.650  396344.690         3.406586   \n",
      "7843   4437271.850   4.080  396351.185  396351.440         4.976279   \n",
      "12773  4437271.400   3.005  396354.075  396355.575         2.702634   \n",
      "\n",
      "       euclidean_length  \n",
      "0              3.240096  \n",
      "2409           3.411103  \n",
      "5240           2.977533  \n",
      "7843           4.087961  \n",
      "12773          3.358575  \n"
     ]
    }
   ],
   "source": [
    "print(new_data.head())"
   ]
  },
  {
   "cell_type": "code",
   "execution_count": 10,
   "metadata": {},
   "outputs": [],
   "source": [
    "# save \"S:\\Zack\\Imagery\\Hazelnut\\WPP_Farm_LiDAR\\ArcGIS_Pro_WPP_Farm_LiDAR\\WPP_BlockB_Hazelnut_Euclidean_HW.csv\"\n",
    "new_data.to_csv(\"S:\\Zack\\Imagery\\Hazelnut\\WPP_Farm_LiDAR\\ArcGIS_Pro_WPP_Farm_LiDAR\\WPP_BlockB_Hazelnut_SfM_Euclidean_HW.csv\", index=False)"
   ]
  }
 ],
 "metadata": {
  "kernelspec": {
   "display_name": "base",
   "language": "python",
   "name": "python3"
  },
  "language_info": {
   "codemirror_mode": {
    "name": "ipython",
    "version": 3
   },
   "file_extension": ".py",
   "mimetype": "text/x-python",
   "name": "python",
   "nbconvert_exporter": "python",
   "pygments_lexer": "ipython3",
   "version": "3.11.5"
  }
 },
 "nbformat": 4,
 "nbformat_minor": 2
}
