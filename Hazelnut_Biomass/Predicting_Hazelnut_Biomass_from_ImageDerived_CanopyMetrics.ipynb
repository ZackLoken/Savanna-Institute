{
 "cells": [
  {
   "cell_type": "markdown",
   "metadata": {},
   "source": [
    "##### <center>Predicting Hazelnut Biomass using Image-derived Canopy Metrics and Random Forest</center>"
   ]
  },
  {
   "cell_type": "code",
   "execution_count": 1,
   "metadata": {},
   "outputs": [],
   "source": [
    "import pandas as pd\n",
    "import numpy as np\n",
    "from sklearn.model_selection import train_test_split\n",
    "from sklearn.ensemble import RandomForestRegressor\n",
    "from sklearn.inspection import PartialDependenceDisplay\n",
    "import matplotlib.pyplot as plt\n",
    "from fastai.tabular.core import Categorify, FillMissing, cont_cat_split, TabularPandas, Normalize\n",
    "from fastai.tabular.all import tabular_learner\n",
    "from fastbook import cluster_columns\n",
    "import math\n",
    "import pickle\n",
    "from torch.nn import functional as F\n",
    "from treeinterpreter import treeinterpreter as ti\n",
    "import waterfall_chart"
   ]
  },
  {
   "cell_type": "markdown",
   "metadata": {},
   "source": [
    "##### <center>Load and Pre-process the Data</center>"
   ]
  },
  {
   "cell_type": "code",
   "execution_count": 2,
   "metadata": {},
   "outputs": [
    {
     "data": {
      "text/plain": [
       "Index(['site', 'type', 'treeID', 'n_trees', 'diameter', 'area', 'volume',\n",
       "       'width', 'length', 'diagonal_width', 'diagonal_length', 'biomass'],\n",
       "      dtype='object')"
      ]
     },
     "execution_count": 2,
     "metadata": {},
     "output_type": "execute_result"
    }
   ],
   "source": [
    "data = pd.read_csv(\"C:\\\\Users\\\\exx\\\\Downloads\\\\Rosemount_CanopyMetrics_Final.csv\", low_memory=False)\n",
    "data.columns"
   ]
  },
  {
   "cell_type": "code",
   "execution_count": 3,
   "metadata": {},
   "outputs": [],
   "source": [
    "# drop na from the data\n",
    "data = data.dropna()\n",
    "\n",
    "# subset only LiDAR type \n",
    "data = data[data['type'] == 'LiDAR']\n",
    "\n",
    "# remmove descritpive columns\n",
    "data = data.drop(columns=['site', 'type', 'treeID', 'n_trees'])"
   ]
  },
  {
   "cell_type": "code",
   "execution_count": 4,
   "metadata": {},
   "outputs": [],
   "source": [
    "dependent_variable = 'biomass'\n",
    "data[dependent_variable] = np.log(data[dependent_variable]) # taking log of dep var because error metric is RMSLE between actual and predicted biomass"
   ]
  },
  {
   "cell_type": "code",
   "execution_count": 5,
   "metadata": {},
   "outputs": [],
   "source": [
    "# split into train and test sets\n",
    "df, df_test = train_test_split(data, test_size=0.2)"
   ]
  },
  {
   "cell_type": "code",
   "execution_count": 6,
   "metadata": {},
   "outputs": [],
   "source": [
    "# store indices in list\n",
    "idx = list(df.index)\n",
    "\n",
    "# set cond to subset first 85% of indices\n",
    "cond = df.index.isin(idx[:int(len(idx)*0.85)])\n",
    "train_idx = np.where(cond)[0]\n",
    "valid_idx = np.where(~cond)[0]\n",
    "\n",
    "splits = (list(train_idx), list(valid_idx))\n",
    "procs = [Categorify, FillMissing]\n",
    "cont, cat = cont_cat_split(df, 1, dep_var = dependent_variable)\n",
    "to = TabularPandas(df, procs, cat, cont, y_names=dependent_variable, splits = splits)"
   ]
  },
  {
   "cell_type": "code",
   "execution_count": 7,
   "metadata": {},
   "outputs": [
    {
     "data": {
      "text/plain": [
       "(23, 5)"
      ]
     },
     "execution_count": 7,
     "metadata": {},
     "output_type": "execute_result"
    }
   ],
   "source": [
    "len(to.train), len(to.valid)"
   ]
  },
  {
   "cell_type": "code",
   "execution_count": 8,
   "metadata": {},
   "outputs": [
    {
     "data": {
      "text/html": [
       "<table border=\"1\" class=\"dataframe\">\n",
       "  <thead>\n",
       "    <tr style=\"text-align: right;\">\n",
       "      <th></th>\n",
       "      <th>diameter</th>\n",
       "      <th>area</th>\n",
       "      <th>volume</th>\n",
       "      <th>width</th>\n",
       "      <th>length</th>\n",
       "      <th>diagonal_width</th>\n",
       "      <th>diagonal_length</th>\n",
       "      <th>biomass</th>\n",
       "    </tr>\n",
       "  </thead>\n",
       "  <tbody>\n",
       "    <tr>\n",
       "      <th>26</th>\n",
       "      <td>3.190728</td>\n",
       "      <td>5.006864</td>\n",
       "      <td>5.539432</td>\n",
       "      <td>3.109818</td>\n",
       "      <td>2.41986</td>\n",
       "      <td>3.147406</td>\n",
       "      <td>2.566449</td>\n",
       "      <td>2.884801</td>\n",
       "    </tr>\n",
       "    <tr>\n",
       "      <th>21</th>\n",
       "      <td>2.468909</td>\n",
       "      <td>3.729064</td>\n",
       "      <td>5.634546</td>\n",
       "      <td>2.389860</td>\n",
       "      <td>2.34486</td>\n",
       "      <td>2.390613</td>\n",
       "      <td>2.349338</td>\n",
       "      <td>3.030134</td>\n",
       "    </tr>\n",
       "    <tr>\n",
       "      <th>30</th>\n",
       "      <td>3.383458</td>\n",
       "      <td>6.987432</td>\n",
       "      <td>9.075624</td>\n",
       "      <td>3.234810</td>\n",
       "      <td>3.26980</td>\n",
       "      <td>3.345883</td>\n",
       "      <td>3.275910</td>\n",
       "      <td>3.280911</td>\n",
       "    </tr>\n",
       "  </tbody>\n",
       "</table>"
      ],
      "text/plain": [
       "<IPython.core.display.HTML object>"
      ]
     },
     "metadata": {},
     "output_type": "display_data"
    }
   ],
   "source": [
    "to.show(3) # shows embeddings for categorical values"
   ]
  },
  {
   "cell_type": "code",
   "execution_count": 9,
   "metadata": {},
   "outputs": [
    {
     "data": {
      "text/html": [
       "<div>\n",
       "<style scoped>\n",
       "    .dataframe tbody tr th:only-of-type {\n",
       "        vertical-align: middle;\n",
       "    }\n",
       "\n",
       "    .dataframe tbody tr th {\n",
       "        vertical-align: top;\n",
       "    }\n",
       "\n",
       "    .dataframe thead th {\n",
       "        text-align: right;\n",
       "    }\n",
       "</style>\n",
       "<table border=\"1\" class=\"dataframe\">\n",
       "  <thead>\n",
       "    <tr style=\"text-align: right;\">\n",
       "      <th></th>\n",
       "      <th>diameter</th>\n",
       "      <th>area</th>\n",
       "      <th>volume</th>\n",
       "      <th>width</th>\n",
       "      <th>length</th>\n",
       "      <th>diagonal_width</th>\n",
       "      <th>diagonal_length</th>\n",
       "      <th>biomass</th>\n",
       "    </tr>\n",
       "  </thead>\n",
       "  <tbody>\n",
       "    <tr>\n",
       "      <th>26</th>\n",
       "      <td>3.190728</td>\n",
       "      <td>5.006864</td>\n",
       "      <td>5.539432</td>\n",
       "      <td>3.109818</td>\n",
       "      <td>2.41986</td>\n",
       "      <td>3.147406</td>\n",
       "      <td>2.566449</td>\n",
       "      <td>2.884801</td>\n",
       "    </tr>\n",
       "    <tr>\n",
       "      <th>21</th>\n",
       "      <td>2.468909</td>\n",
       "      <td>3.729064</td>\n",
       "      <td>5.634546</td>\n",
       "      <td>2.389860</td>\n",
       "      <td>2.34486</td>\n",
       "      <td>2.390613</td>\n",
       "      <td>2.349338</td>\n",
       "      <td>3.030134</td>\n",
       "    </tr>\n",
       "    <tr>\n",
       "      <th>30</th>\n",
       "      <td>3.383458</td>\n",
       "      <td>6.987432</td>\n",
       "      <td>9.075624</td>\n",
       "      <td>3.234810</td>\n",
       "      <td>3.26980</td>\n",
       "      <td>3.345883</td>\n",
       "      <td>3.275910</td>\n",
       "      <td>3.280911</td>\n",
       "    </tr>\n",
       "  </tbody>\n",
       "</table>\n",
       "</div>"
      ],
      "text/plain": [
       "    diameter      area    volume     width   length  diagonal_width  \\\n",
       "26  3.190728  5.006864  5.539432  3.109818  2.41986        3.147406   \n",
       "21  2.468909  3.729064  5.634546  2.389860  2.34486        2.390613   \n",
       "30  3.383458  6.987432  9.075624  3.234810  3.26980        3.345883   \n",
       "\n",
       "    diagonal_length   biomass  \n",
       "26         2.566449  2.884801  \n",
       "21         2.349338  3.030134  \n",
       "30         3.275910  3.280911  "
      ]
     },
     "execution_count": 9,
     "metadata": {},
     "output_type": "execute_result"
    }
   ],
   "source": [
    "to.items.head(3) # shows embedded values for categorical variables"
   ]
  },
  {
   "cell_type": "markdown",
   "metadata": {},
   "source": [
    "##### <center>Create the Random Forest</center>"
   ]
  },
  {
   "cell_type": "code",
   "execution_count": 10,
   "metadata": {},
   "outputs": [],
   "source": [
    "def randomForest(xs, y, n_estimators=40, max_samples=len(to.train),\n",
    "                  max_features=0.5, min_samples_leaf=3, **kwargs):\n",
    "    return RandomForestRegressor(n_jobs=-1, n_estimators=n_estimators,\n",
    "                                max_samples=max_samples, max_features=max_features,\n",
    "                                min_samples_leaf=min_samples_leaf, oob_score=True).fit(xs, y)"
   ]
  },
  {
   "cell_type": "code",
   "execution_count": 11,
   "metadata": {},
   "outputs": [],
   "source": [
    "xs, y = to.train.xs, to.train.y\n",
    "valid_xs, valid_y = to.valid.xs, to.valid.y\n",
    "m = randomForest(xs, y)"
   ]
  },
  {
   "cell_type": "code",
   "execution_count": 12,
   "metadata": {},
   "outputs": [
    {
     "name": "stdout",
     "output_type": "stream",
     "text": [
      "['diameter' 'area' 'volume' 'width' 'length' 'diagonal_width' 'diagonal_length']\n"
     ]
    }
   ],
   "source": [
    "# print feature names in random forest model\n",
    "print(m.feature_names_in_)"
   ]
  },
  {
   "cell_type": "code",
   "execution_count": 13,
   "metadata": {},
   "outputs": [],
   "source": [
    "# functions for calculating rmse\n",
    "def r_mse(pred, y): return round(math.sqrt(((pred-y)**2).mean()), 6)\n",
    "def m_rmse(m, xs, y): return r_mse(m.predict(xs), y)"
   ]
  },
  {
   "cell_type": "code",
   "execution_count": 14,
   "metadata": {},
   "outputs": [
    {
     "data": {
      "text/plain": [
       "(0.159865, 0.194466)"
      ]
     },
     "execution_count": 14,
     "metadata": {},
     "output_type": "execute_result"
    }
   ],
   "source": [
    "m_rmse(m, xs, y), m_rmse(m, valid_xs, valid_y)"
   ]
  },
  {
   "cell_type": "code",
   "execution_count": 15,
   "metadata": {},
   "outputs": [],
   "source": [
    "# set feature names for each tree in the random forest model\n",
    "for est in m.estimators_:\n",
    "    est.feature_names_in_ = m.feature_names_in_"
   ]
  },
  {
   "cell_type": "code",
   "execution_count": 16,
   "metadata": {},
   "outputs": [
    {
     "data": {
      "text/plain": [
       "(40, 5)"
      ]
     },
     "execution_count": 16,
     "metadata": {},
     "output_type": "execute_result"
    }
   ],
   "source": [
    "preds = np.stack([t.predict(valid_xs) for t in m.estimators_])\n",
    "preds.shape"
   ]
  },
  {
   "cell_type": "code",
   "execution_count": 17,
   "metadata": {},
   "outputs": [
    {
     "data": {
      "text/plain": [
       "0.194466"
      ]
     },
     "execution_count": 17,
     "metadata": {},
     "output_type": "execute_result"
    }
   ],
   "source": [
    "r_mse(preds.mean(0), valid_y)"
   ]
  },
  {
   "cell_type": "code",
   "execution_count": 18,
   "metadata": {},
   "outputs": [
    {
     "data": {
      "image/png": "[encoded data removed]",
      "text/plain": [
       "<Figure size 640x480 with 1 Axes>"
      ]
     },
     "metadata": {},
     "output_type": "display_data"
    }
   ],
   "source": [
    "# plot mean prediction error of each estimator (decision tree) in the random forest\n",
    "plt.plot([r_mse(preds[:i+1].mean(0), valid_y) for i in range(40)]);"
   ]
  },
  {
   "cell_type": "code",
   "execution_count": 19,
   "metadata": {},
   "outputs": [
    {
     "data": {
      "text/plain": [
       "0.271325"
      ]
     },
     "execution_count": 19,
     "metadata": {},
     "output_type": "execute_result"
    }
   ],
   "source": [
    "# out-of-bag rmse error\n",
    "r_mse(m.oob_prediction_, y)"
   ]
  },
  {
   "cell_type": "markdown",
   "metadata": {},
   "source": [
    "##### <center>Tree Variance for Prediction Confidence</center>"
   ]
  },
  {
   "cell_type": "code",
   "execution_count": 20,
   "metadata": {},
   "outputs": [
    {
     "data": {
      "text/plain": [
       "array([0.19065567, 0.12077288, 0.37192679, 0.13952051, 0.14430723])"
      ]
     },
     "execution_count": 20,
     "metadata": {},
     "output_type": "execute_result"
    }
   ],
   "source": [
    "# std. dev. gives model confidence\n",
    "preds_std = preds.std(0)\n",
    "preds_std[:5]"
   ]
  },
  {
   "cell_type": "markdown",
   "metadata": {},
   "source": [
    "##### <center>Feature Importance</center>"
   ]
  },
  {
   "cell_type": "code",
   "execution_count": 21,
   "metadata": {},
   "outputs": [],
   "source": [
    "def rf_feat_importance(m, df):\n",
    "    return pd.DataFrame({'cols':df.columns, 'imp':m.feature_importances_}\n",
    "                       ).sort_values('imp', ascending=False)"
   ]
  },
  {
   "cell_type": "code",
   "execution_count": 22,
   "metadata": {},
   "outputs": [
    {
     "data": {
      "text/html": [
       "<div>\n",
       "<style scoped>\n",
       "    .dataframe tbody tr th:only-of-type {\n",
       "        vertical-align: middle;\n",
       "    }\n",
       "\n",
       "    .dataframe tbody tr th {\n",
       "        vertical-align: top;\n",
       "    }\n",
       "\n",
       "    .dataframe thead th {\n",
       "        text-align: right;\n",
       "    }\n",
       "</style>\n",
       "<table border=\"1\" class=\"dataframe\">\n",
       "  <thead>\n",
       "    <tr style=\"text-align: right;\">\n",
       "      <th></th>\n",
       "      <th>cols</th>\n",
       "      <th>imp</th>\n",
       "    </tr>\n",
       "  </thead>\n",
       "  <tbody>\n",
       "    <tr>\n",
       "      <th>2</th>\n",
       "      <td>volume</td>\n",
       "      <td>0.320007</td>\n",
       "    </tr>\n",
       "    <tr>\n",
       "      <th>4</th>\n",
       "      <td>length</td>\n",
       "      <td>0.247237</td>\n",
       "    </tr>\n",
       "    <tr>\n",
       "      <th>1</th>\n",
       "      <td>area</td>\n",
       "      <td>0.145533</td>\n",
       "    </tr>\n",
       "    <tr>\n",
       "      <th>6</th>\n",
       "      <td>diagonal_length</td>\n",
       "      <td>0.121405</td>\n",
       "    </tr>\n",
       "    <tr>\n",
       "      <th>0</th>\n",
       "      <td>diameter</td>\n",
       "      <td>0.096129</td>\n",
       "    </tr>\n",
       "    <tr>\n",
       "      <th>5</th>\n",
       "      <td>diagonal_width</td>\n",
       "      <td>0.034945</td>\n",
       "    </tr>\n",
       "    <tr>\n",
       "      <th>3</th>\n",
       "      <td>width</td>\n",
       "      <td>0.034745</td>\n",
       "    </tr>\n",
       "  </tbody>\n",
       "</table>\n",
       "</div>"
      ],
      "text/plain": [
       "              cols       imp\n",
       "2           volume  0.320007\n",
       "4           length  0.247237\n",
       "1             area  0.145533\n",
       "6  diagonal_length  0.121405\n",
       "0         diameter  0.096129\n",
       "5   diagonal_width  0.034945\n",
       "3            width  0.034745"
      ]
     },
     "execution_count": 22,
     "metadata": {},
     "output_type": "execute_result"
    }
   ],
   "source": [
    "feature_importance = rf_feat_importance(m, xs)\n",
    "feature_importance[:10]"
   ]
  },
  {
   "cell_type": "code",
   "execution_count": 23,
   "metadata": {},
   "outputs": [],
   "source": [
    "def plot_feature_importance(feature_importance):\n",
    "    return feature_importance.plot('cols', 'imp', 'barh', figsize=(12,7), legend=False)"
   ]
  },
  {
   "cell_type": "code",
   "execution_count": 24,
   "metadata": {},
   "outputs": [
    {
     "data": {
      "image/png": "[encoded data removed]",
      "text/plain": [
       "<Figure size 1200x700 with 1 Axes>"
      ]
     },
     "metadata": {},
     "output_type": "display_data"
    }
   ],
   "source": [
    "plot_feature_importance(feature_importance[:len(to.train)]);"
   ]
  },
  {
   "cell_type": "markdown",
   "metadata": {},
   "source": [
    "##### <center>Removing Low-importance Variables</center>"
   ]
  },
  {
   "cell_type": "code",
   "execution_count": 25,
   "metadata": {},
   "outputs": [
    {
     "data": {
      "text/plain": [
       "7"
      ]
     },
     "execution_count": 25,
     "metadata": {},
     "output_type": "execute_result"
    }
   ],
   "source": [
    "to_keep = feature_importance[feature_importance.imp>0.005].cols\n",
    "len(to_keep)"
   ]
  },
  {
   "cell_type": "code",
   "execution_count": 26,
   "metadata": {},
   "outputs": [
    {
     "data": {
      "text/plain": [
       "(0.153433, 0.168242)"
      ]
     },
     "execution_count": 26,
     "metadata": {},
     "output_type": "execute_result"
    }
   ],
   "source": [
    "xs_imp = xs[to_keep]\n",
    "valid_xs_imp = valid_xs[to_keep]\n",
    "m_imp = randomForest(xs_imp, y)\n",
    "m_rmse(m_imp, xs_imp, y), m_rmse(m_imp, valid_xs_imp, valid_y)"
   ]
  },
  {
   "cell_type": "code",
   "execution_count": 27,
   "metadata": {},
   "outputs": [
    {
     "data": {
      "text/plain": [
       "(7, 7)"
      ]
     },
     "execution_count": 27,
     "metadata": {},
     "output_type": "execute_result"
    }
   ],
   "source": [
    "len(xs.columns), len(xs_imp.columns)"
   ]
  },
  {
   "cell_type": "code",
   "execution_count": 28,
   "metadata": {},
   "outputs": [
    {
     "data": {
      "image/png": "[encoded data removed]",
      "text/plain": [
       "<Figure size 1200x700 with 1 Axes>"
      ]
     },
     "metadata": {},
     "output_type": "display_data"
    }
   ],
   "source": [
    "plot_feature_importance(rf_feat_importance(m_imp, xs_imp));"
   ]
  },
  {
   "cell_type": "markdown",
   "metadata": {},
   "source": [
    "##### <center>Removing Redundant Features using Out-of-bag Error</center>"
   ]
  },
  {
   "cell_type": "code",
   "execution_count": 29,
   "metadata": {},
   "outputs": [
    {
     "data": {
      "image/png": "[encoded data removed]",
      "text/plain": [
       "<Figure size 1000x600 with 1 Axes>"
      ]
     },
     "metadata": {},
     "output_type": "display_data"
    }
   ],
   "source": [
    "cluster_columns(xs_imp)"
   ]
  },
  {
   "cell_type": "code",
   "execution_count": 30,
   "metadata": {},
   "outputs": [],
   "source": [
    "# OOB score used here is R^2\n",
    "def get_oob(df):\n",
    "    m = RandomForestRegressor(n_estimators=40, min_samples_leaf=3,\n",
    "                                  max_samples = len(to.train), max_features=0.5, n_jobs=-1, oob_score=True)\n",
    "    m.fit(df, y)\n",
    "    return m.oob_score_"
   ]
  },
  {
   "cell_type": "code",
   "execution_count": 31,
   "metadata": {},
   "outputs": [
    {
     "data": {
      "text/plain": [
       "0.7058603350313647"
      ]
     },
     "execution_count": 31,
     "metadata": {},
     "output_type": "execute_result"
    }
   ],
   "source": [
    "get_oob(xs_imp)"
   ]
  },
  {
   "cell_type": "code",
   "execution_count": 32,
   "metadata": {},
   "outputs": [
    {
     "data": {
      "text/plain": [
       "{'volume': 0.5374137500613393,\n",
       " 'length': 0.6562912883795109,\n",
       " 'area': 0.6870378073886234,\n",
       " 'diagonal_length': 0.7371885235674192,\n",
       " 'diameter': 0.6513590409772297,\n",
       " 'diagonal_width': 0.6784768889037212,\n",
       " 'width': 0.6645836456044141}"
      ]
     },
     "execution_count": 32,
     "metadata": {},
     "output_type": "execute_result"
    }
   ],
   "source": [
    "{c:get_oob(xs_imp.drop(c, axis=1)) for c in to_keep.tolist()}"
   ]
  },
  {
   "cell_type": "code",
   "execution_count": 33,
   "metadata": {},
   "outputs": [
    {
     "data": {
      "text/plain": [
       "0.7505661465504648"
      ]
     },
     "execution_count": 33,
     "metadata": {},
     "output_type": "execute_result"
    }
   ],
   "source": [
    "# now try dropping multiple variables to see if oob improves\n",
    "to_drop = ['diagonal_length','diagonal_width', 'diameter']\n",
    "get_oob(xs_imp.drop(to_drop, axis=1))"
   ]
  },
  {
   "cell_type": "code",
   "execution_count": 34,
   "metadata": {},
   "outputs": [],
   "source": [
    "xs_final = xs_imp.drop(to_drop, axis=1)\n",
    "valid_xs_final = valid_xs_imp.drop(to_drop, axis=1)\n",
    "\n",
    "\n",
    "# save preprocessed data to pickle file\n",
    "with open('Hazelnut_Biomass_Data_preProcessed_train.pkl', 'wb') as f:\n",
    "    pickle.dump(xs_final, f)\n",
    "with open('Hazelnut_Biomass_Data_preProcessed_valid.pkl', 'wb') as f:\n",
    "    pickle.dump(valid_xs_final, f)"
   ]
  },
  {
   "cell_type": "code",
   "execution_count": 35,
   "metadata": {},
   "outputs": [
    {
     "data": {
      "text/plain": [
       "(0.147908, 0.170508)"
      ]
     },
     "execution_count": 35,
     "metadata": {},
     "output_type": "execute_result"
    }
   ],
   "source": [
    "# check RMSE again to ensure accuracy hasn't substantially changed\n",
    "m = randomForest(xs_final, y)\n",
    "m_rmse(m, xs_final, y), m_rmse(m, valid_xs_final, valid_y)"
   ]
  },
  {
   "cell_type": "markdown",
   "metadata": {},
   "source": [
    "##### <center>Plot Partial Dependence of Most Important Variables</center>"
   ]
  },
  {
   "cell_type": "code",
   "execution_count": 36,
   "metadata": {},
   "outputs": [
    {
     "data": {
      "image/png": "[encoded data removed]",
      "text/plain": [
       "<Figure size 1200x800 with 5 Axes>"
      ]
     },
     "metadata": {},
     "output_type": "display_data"
    }
   ],
   "source": [
    "# look at feature importance plot above and store most important variables in a list\n",
    "imp_vars = [f for f in m.feature_names_in_]\n",
    "\n",
    "# partial dependence plot shows how each feature's individual values contribute to model prediction\n",
    "fig,ax = plt.subplots(figsize=(12, 8))\n",
    "PartialDependenceDisplay.from_estimator(m, valid_xs_final, imp_vars, grid_resolution=20, ax=ax);"
   ]
  },
  {
   "cell_type": "markdown",
   "metadata": {},
   "source": [
    "##### <center>Use Tree Interpreters to Identify Factors that Influence Prediction</center>"
   ]
  },
  {
   "cell_type": "code",
   "execution_count": 37,
   "metadata": {},
   "outputs": [],
   "source": [
    "row = valid_xs_final.iloc[:len(to.train)]\n",
    "prediction, bias, contributions = ti.predict(m, row.values)"
   ]
  },
  {
   "cell_type": "code",
   "execution_count": 38,
   "metadata": {},
   "outputs": [
    {
     "data": {
      "text/plain": [
       "(array([3.22582763]), 2.9551340844320224, 0.2706935440521706)"
      ]
     },
     "execution_count": 38,
     "metadata": {},
     "output_type": "execute_result"
    }
   ],
   "source": [
    "# look at just first row results\n",
    "prediction[0], bias[0], contributions[0].sum()"
   ]
  },
  {
   "cell_type": "code",
   "execution_count": 39,
   "metadata": {},
   "outputs": [
    {
     "name": "stderr",
     "output_type": "stream",
     "text": [
      "c:\\Users\\exx\\.conda\\envs\\fastai_dl\\Lib\\site-packages\\waterfall_chart.py:141: FutureWarning: Series.__getitem__ treating keys as positions is deprecated. In a future version, integer keys will always be treated as labels (consistent with DataFrame behavior). To access a value by position, use `ser.iloc[pos]`\n",
      "  y = y_height[loop] + row['amount']\n",
      "c:\\Users\\exx\\.conda\\envs\\fastai_dl\\Lib\\site-packages\\waterfall_chart.py:139: FutureWarning: Series.__getitem__ treating keys as positions is deprecated. In a future version, integer keys will always be treated as labels (consistent with DataFrame behavior). To access a value by position, use `ser.iloc[pos]`\n",
      "  y = y_height[loop]\n"
     ]
    },
    {
     "data": {
      "text/plain": [
       "<module 'matplotlib.pyplot' from 'c:\\\\Users\\\\exx\\\\.conda\\\\envs\\\\fastai_dl\\\\Lib\\\\site-packages\\\\matplotlib\\\\pyplot.py'>"
      ]
     },
     "execution_count": 39,
     "metadata": {},
     "output_type": "execute_result"
    },
    {
     "data": {
      "image/png": "[encoded data removed]",
      "text/plain": [
       "<Figure size 640x480 with 1 Axes>"
      ]
     },
     "metadata": {},
     "output_type": "display_data"
    }
   ],
   "source": [
    "# plot contributions of independent variables using waterfall chart\n",
    "## 'net' column is sum of negative (red) and positive (green) contributions of all indpendent variables\n",
    "waterfall_chart.plot(valid_xs_final.columns, contributions[0], threshold=0.08, rotation_value=45, formatting='{:,.3f}')"
   ]
  },
  {
   "cell_type": "markdown",
   "metadata": {},
   "source": [
    "##### <center>Compare Neural Network against Random Forest</center>"
   ]
  },
  {
   "cell_type": "code",
   "execution_count": 56,
   "metadata": {},
   "outputs": [],
   "source": [
    "df_nn = df.copy()\n",
    "df_nn_test = df_test.copy()\n",
    "\n",
    "# Best Hyperparameter Configuration: [['diameter', 'area', 'volume', 'diagonal_width', 'diagonal_length'], 8, [125, 60], 100, 0.090135, 0.068527]\n",
    "\n",
    "# keep only columns in imp_vars plus dependent variable\n",
    "df_nn = df_nn[['diameter', 'area', 'volume', 'diagonal_width', 'diagonal_length'] + [dependent_variable]]\n",
    "df_nn_test = df_nn_test[['diameter', 'area', 'volume', 'diagonal_width', 'diagonal_length'] + [dependent_variable]]"
   ]
  },
  {
   "cell_type": "code",
   "execution_count": 57,
   "metadata": {},
   "outputs": [],
   "source": [
    "cont_nn, cat_nn = cont_cat_split(df_nn, max_card = 9000, dep_var = dependent_variable)\n",
    "procs_nn = [Categorify, FillMissing, Normalize]\n",
    "to_nn = TabularPandas(df_nn, procs_nn, cat_nn, cont_nn, y_names=dependent_variable, splits = splits)"
   ]
  },
  {
   "cell_type": "code",
   "execution_count": 58,
   "metadata": {},
   "outputs": [],
   "source": [
    "# set up dataloaders for neural network\n",
    "dls = to_nn.dataloaders(8, shuffle=False)"
   ]
  },
  {
   "cell_type": "code",
   "execution_count": 59,
   "metadata": {},
   "outputs": [
    {
     "data": {
      "text/plain": [
       "(1.8870697021484375, 3.6737658977508545)"
      ]
     },
     "execution_count": 59,
     "metadata": {},
     "output_type": "execute_result"
    }
   ],
   "source": [
    "y = to_nn.train.y\n",
    "y.min(), y.max()"
   ]
  },
  {
   "cell_type": "code",
   "execution_count": 60,
   "metadata": {},
   "outputs": [
    {
     "data": {
      "text/plain": [
       "TabularModel(\n",
       "  (embeds): ModuleList()\n",
       "  (emb_drop): Dropout(p=0.0, inplace=False)\n",
       "  (bn_cont): BatchNorm1d(5, eps=1e-05, momentum=0.1, affine=True, track_running_stats=True)\n",
       "  (layers): Sequential(\n",
       "    (0): LinBnDrop(\n",
       "      (0): Linear(in_features=5, out_features=125, bias=False)\n",
       "      (1): ReLU(inplace=True)\n",
       "      (2): BatchNorm1d(125, eps=1e-05, momentum=0.1, affine=True, track_running_stats=True)\n",
       "    )\n",
       "    (1): LinBnDrop(\n",
       "      (0): Linear(in_features=125, out_features=60, bias=False)\n",
       "      (1): ReLU(inplace=True)\n",
       "      (2): BatchNorm1d(60, eps=1e-05, momentum=0.1, affine=True, track_running_stats=True)\n",
       "    )\n",
       "    (2): LinBnDrop(\n",
       "      (0): Linear(in_features=60, out_features=1, bias=True)\n",
       "    )\n",
       "    (3): fastai.layers.SigmoidRange(low=1, high=4)\n",
       "  )\n",
       ")"
      ]
     },
     "execution_count": 60,
     "metadata": {},
     "output_type": "execute_result"
    }
   ],
   "source": [
    "learn = tabular_learner(dls, y_range=(math.floor(y.min()), math.ceil(y.max())), layers=[125,60], n_out=1, loss_func=F.mse_loss)\n",
    "learn.model # view the NN model"
   ]
  },
  {
   "cell_type": "code",
   "execution_count": 61,
   "metadata": {},
   "outputs": [
    {
     "data": {
      "text/html": [
       "\n",
       "<style>\n",
       "    /* Turns off some styling */\n",
       "    progress {\n",
       "        /* gets rid of default border in Firefox and Opera. */\n",
       "        border: none;\n",
       "        /* Needs to be in here for Safari polyfill so background images work as expected. */\n",
       "        background-size: auto;\n",
       "    }\n",
       "    progress:not([value]), progress:not([value])::-webkit-progress-bar {\n",
       "        background: repeating-linear-gradient(45deg, #7e7e7e, #7e7e7e 10px, #5c5c5c 10px, #5c5c5c 20px);\n",
       "    }\n",
       "    .progress-bar-interrupted, .progress-bar-interrupted::-webkit-progress-bar {\n",
       "        background: #F44336;\n",
       "    }\n",
       "</style>\n"
      ],
      "text/plain": [
       "<IPython.core.display.HTML object>"
      ]
     },
     "metadata": {},
     "output_type": "display_data"
    },
    {
     "data": {
      "text/html": [],
      "text/plain": [
       "<IPython.core.display.HTML object>"
      ]
     },
     "metadata": {},
     "output_type": "display_data"
    },
    {
     "name": "stderr",
     "output_type": "stream",
     "text": [
      "c:\\Users\\exx\\.conda\\envs\\fastai_dl\\Lib\\site-packages\\fastai\\learner.py:51: FutureWarning: You are using `torch.load` with `weights_only=False` (the current default value), which uses the default pickle module implicitly. It is possible to construct malicious pickle data which will execute arbitrary code during unpickling (See https://github.com/pytorch/pytorch/blob/main/SECURITY.md#untrusted-models for more details). In a future release, the default value for `weights_only` will be flipped to `True`. This limits the functions that could be executed during unpickling. Arbitrary objects will no longer be allowed to be loaded via this mode unless they are explicitly allowlisted by the user via `torch.serialization.add_safe_globals`. We recommend you start setting `weights_only=True` for any use case where you don't have full control of the loaded file. Please open an issue on GitHub for any issues related to this experimental feature.\n",
      "  state = torch.load(file, map_location=device, **torch_load_kwargs)\n"
     ]
    },
    {
     "name": "stdout",
     "output_type": "stream",
     "text": [
      "0.001737800776027143\n"
     ]
    },
    {
     "data": {
      "image/png": "[encoded data removed]",
      "text/plain": [
       "<Figure size 640x480 with 1 Axes>"
      ]
     },
     "metadata": {},
     "output_type": "display_data"
    }
   ],
   "source": [
    "lr = learn.lr_find().valley\n",
    "print(lr)"
   ]
  },
  {
   "cell_type": "code",
   "execution_count": 62,
   "metadata": {},
   "outputs": [
    {
     "data": {
      "text/html": [
       "<table border=\"1\" class=\"dataframe\">\n",
       "  <thead>\n",
       "    <tr style=\"text-align: right;\">\n",
       "      <th></th>\n",
       "      <th>diameter</th>\n",
       "      <th>area</th>\n",
       "      <th>volume</th>\n",
       "      <th>diagonal_width</th>\n",
       "      <th>diagonal_length</th>\n",
       "      <th>biomass</th>\n",
       "    </tr>\n",
       "  </thead>\n",
       "  <tbody>\n",
       "    <tr>\n",
       "      <th>0</th>\n",
       "      <td>3.190728</td>\n",
       "      <td>5.006864</td>\n",
       "      <td>5.539432</td>\n",
       "      <td>3.147406</td>\n",
       "      <td>2.566449</td>\n",
       "      <td>2.884801</td>\n",
       "    </tr>\n",
       "    <tr>\n",
       "      <th>1</th>\n",
       "      <td>2.468909</td>\n",
       "      <td>3.729064</td>\n",
       "      <td>5.634546</td>\n",
       "      <td>2.390613</td>\n",
       "      <td>2.349338</td>\n",
       "      <td>3.030134</td>\n",
       "    </tr>\n",
       "    <tr>\n",
       "      <th>2</th>\n",
       "      <td>3.383458</td>\n",
       "      <td>6.987432</td>\n",
       "      <td>9.075624</td>\n",
       "      <td>3.345883</td>\n",
       "      <td>3.275910</td>\n",
       "      <td>3.280911</td>\n",
       "    </tr>\n",
       "    <tr>\n",
       "      <th>3</th>\n",
       "      <td>3.412964</td>\n",
       "      <td>6.110960</td>\n",
       "      <td>6.150433</td>\n",
       "      <td>3.360357</td>\n",
       "      <td>3.242791</td>\n",
       "      <td>3.173878</td>\n",
       "    </tr>\n",
       "    <tr>\n",
       "      <th>4</th>\n",
       "      <td>3.162255</td>\n",
       "      <td>5.713356</td>\n",
       "      <td>6.852620</td>\n",
       "      <td>3.155802</td>\n",
       "      <td>2.728323</td>\n",
       "      <td>3.139833</td>\n",
       "    </tr>\n",
       "    <tr>\n",
       "      <th>5</th>\n",
       "      <td>2.660411</td>\n",
       "      <td>4.088296</td>\n",
       "      <td>6.320230</td>\n",
       "      <td>2.517653</td>\n",
       "      <td>2.644869</td>\n",
       "      <td>3.131137</td>\n",
       "    </tr>\n",
       "    <tr>\n",
       "      <th>6</th>\n",
       "      <td>3.390070</td>\n",
       "      <td>5.399168</td>\n",
       "      <td>7.685225</td>\n",
       "      <td>3.133094</td>\n",
       "      <td>3.201599</td>\n",
       "      <td>3.254243</td>\n",
       "    </tr>\n",
       "    <tr>\n",
       "      <th>7</th>\n",
       "      <td>2.754371</td>\n",
       "      <td>4.198733</td>\n",
       "      <td>3.963690</td>\n",
       "      <td>2.724543</td>\n",
       "      <td>2.407979</td>\n",
       "      <td>2.312536</td>\n",
       "    </tr>\n",
       "  </tbody>\n",
       "</table>"
      ],
      "text/plain": [
       "<IPython.core.display.HTML object>"
      ]
     },
     "metadata": {},
     "output_type": "display_data"
    }
   ],
   "source": [
    "dls.show_batch()"
   ]
  },
  {
   "cell_type": "code",
   "execution_count": 63,
   "metadata": {},
   "outputs": [
    {
     "data": {
      "text/html": [
       "\n",
       "<style>\n",
       "    /* Turns off some styling */\n",
       "    progress {\n",
       "        /* gets rid of default border in Firefox and Opera. */\n",
       "        border: none;\n",
       "        /* Needs to be in here for Safari polyfill so background images work as expected. */\n",
       "        background-size: auto;\n",
       "    }\n",
       "    progress:not([value]), progress:not([value])::-webkit-progress-bar {\n",
       "        background: repeating-linear-gradient(45deg, #7e7e7e, #7e7e7e 10px, #5c5c5c 10px, #5c5c5c 20px);\n",
       "    }\n",
       "    .progress-bar-interrupted, .progress-bar-interrupted::-webkit-progress-bar {\n",
       "        background: #F44336;\n",
       "    }\n",
       "</style>\n"
      ],
      "text/plain": [
       "<IPython.core.display.HTML object>"
      ]
     },
     "metadata": {},
     "output_type": "display_data"
    },
    {
     "data": {
      "text/html": [
       "<table border=\"1\" class=\"dataframe\">\n",
       "  <thead>\n",
       "    <tr style=\"text-align: left;\">\n",
       "      <th>epoch</th>\n",
       "      <th>train_loss</th>\n",
       "      <th>valid_loss</th>\n",
       "      <th>time</th>\n",
       "    </tr>\n",
       "  </thead>\n",
       "  <tbody>\n",
       "    <tr>\n",
       "      <td>0</td>\n",
       "      <td>0.532570</td>\n",
       "      <td>0.550158</td>\n",
       "      <td>00:00</td>\n",
       "    </tr>\n",
       "    <tr>\n",
       "      <td>1</td>\n",
       "      <td>0.505676</td>\n",
       "      <td>0.520525</td>\n",
       "      <td>00:00</td>\n",
       "    </tr>\n",
       "    <tr>\n",
       "      <td>2</td>\n",
       "      <td>0.477694</td>\n",
       "      <td>0.490830</td>\n",
       "      <td>00:00</td>\n",
       "    </tr>\n",
       "    <tr>\n",
       "      <td>3</td>\n",
       "      <td>0.448538</td>\n",
       "      <td>0.456511</td>\n",
       "      <td>00:00</td>\n",
       "    </tr>\n",
       "    <tr>\n",
       "      <td>4</td>\n",
       "      <td>0.418704</td>\n",
       "      <td>0.413652</td>\n",
       "      <td>00:00</td>\n",
       "    </tr>\n",
       "    <tr>\n",
       "      <td>5</td>\n",
       "      <td>0.389376</td>\n",
       "      <td>0.361563</td>\n",
       "      <td>00:00</td>\n",
       "    </tr>\n",
       "    <tr>\n",
       "      <td>6</td>\n",
       "      <td>0.362453</td>\n",
       "      <td>0.301466</td>\n",
       "      <td>00:00</td>\n",
       "    </tr>\n",
       "    <tr>\n",
       "      <td>7</td>\n",
       "      <td>0.339950</td>\n",
       "      <td>0.237941</td>\n",
       "      <td>00:00</td>\n",
       "    </tr>\n",
       "    <tr>\n",
       "      <td>8</td>\n",
       "      <td>0.322400</td>\n",
       "      <td>0.185336</td>\n",
       "      <td>00:00</td>\n",
       "    </tr>\n",
       "    <tr>\n",
       "      <td>9</td>\n",
       "      <td>0.308229</td>\n",
       "      <td>0.148597</td>\n",
       "      <td>00:00</td>\n",
       "    </tr>\n",
       "    <tr>\n",
       "      <td>10</td>\n",
       "      <td>0.295407</td>\n",
       "      <td>0.126269</td>\n",
       "      <td>00:00</td>\n",
       "    </tr>\n",
       "    <tr>\n",
       "      <td>11</td>\n",
       "      <td>0.282968</td>\n",
       "      <td>0.128240</td>\n",
       "      <td>00:00</td>\n",
       "    </tr>\n",
       "    <tr>\n",
       "      <td>12</td>\n",
       "      <td>0.271014</td>\n",
       "      <td>0.158609</td>\n",
       "      <td>00:00</td>\n",
       "    </tr>\n",
       "    <tr>\n",
       "      <td>13</td>\n",
       "      <td>0.259959</td>\n",
       "      <td>0.193275</td>\n",
       "      <td>00:00</td>\n",
       "    </tr>\n",
       "    <tr>\n",
       "      <td>14</td>\n",
       "      <td>0.249873</td>\n",
       "      <td>0.177323</td>\n",
       "      <td>00:00</td>\n",
       "    </tr>\n",
       "    <tr>\n",
       "      <td>15</td>\n",
       "      <td>0.240131</td>\n",
       "      <td>0.134572</td>\n",
       "      <td>00:00</td>\n",
       "    </tr>\n",
       "    <tr>\n",
       "      <td>16</td>\n",
       "      <td>0.230892</td>\n",
       "      <td>0.105835</td>\n",
       "      <td>00:00</td>\n",
       "    </tr>\n",
       "    <tr>\n",
       "      <td>17</td>\n",
       "      <td>0.222019</td>\n",
       "      <td>0.099246</td>\n",
       "      <td>00:00</td>\n",
       "    </tr>\n",
       "    <tr>\n",
       "      <td>18</td>\n",
       "      <td>0.213350</td>\n",
       "      <td>0.111868</td>\n",
       "      <td>00:00</td>\n",
       "    </tr>\n",
       "    <tr>\n",
       "      <td>19</td>\n",
       "      <td>0.204910</td>\n",
       "      <td>0.123908</td>\n",
       "      <td>00:00</td>\n",
       "    </tr>\n",
       "    <tr>\n",
       "      <td>20</td>\n",
       "      <td>0.196661</td>\n",
       "      <td>0.116772</td>\n",
       "      <td>00:00</td>\n",
       "    </tr>\n",
       "    <tr>\n",
       "      <td>21</td>\n",
       "      <td>0.188569</td>\n",
       "      <td>0.103154</td>\n",
       "      <td>00:00</td>\n",
       "    </tr>\n",
       "    <tr>\n",
       "      <td>22</td>\n",
       "      <td>0.180614</td>\n",
       "      <td>0.095162</td>\n",
       "      <td>00:00</td>\n",
       "    </tr>\n",
       "    <tr>\n",
       "      <td>23</td>\n",
       "      <td>0.172812</td>\n",
       "      <td>0.089820</td>\n",
       "      <td>00:00</td>\n",
       "    </tr>\n",
       "    <tr>\n",
       "      <td>24</td>\n",
       "      <td>0.165154</td>\n",
       "      <td>0.085344</td>\n",
       "      <td>00:00</td>\n",
       "    </tr>\n",
       "    <tr>\n",
       "      <td>25</td>\n",
       "      <td>0.157652</td>\n",
       "      <td>0.082012</td>\n",
       "      <td>00:00</td>\n",
       "    </tr>\n",
       "    <tr>\n",
       "      <td>26</td>\n",
       "      <td>0.150321</td>\n",
       "      <td>0.076254</td>\n",
       "      <td>00:00</td>\n",
       "    </tr>\n",
       "    <tr>\n",
       "      <td>27</td>\n",
       "      <td>0.143172</td>\n",
       "      <td>0.070096</td>\n",
       "      <td>00:00</td>\n",
       "    </tr>\n",
       "    <tr>\n",
       "      <td>28</td>\n",
       "      <td>0.136215</td>\n",
       "      <td>0.067427</td>\n",
       "      <td>00:00</td>\n",
       "    </tr>\n",
       "    <tr>\n",
       "      <td>29</td>\n",
       "      <td>0.129457</td>\n",
       "      <td>0.064301</td>\n",
       "      <td>00:00</td>\n",
       "    </tr>\n",
       "    <tr>\n",
       "      <td>30</td>\n",
       "      <td>0.122906</td>\n",
       "      <td>0.059643</td>\n",
       "      <td>00:00</td>\n",
       "    </tr>\n",
       "    <tr>\n",
       "      <td>31</td>\n",
       "      <td>0.116567</td>\n",
       "      <td>0.056542</td>\n",
       "      <td>00:00</td>\n",
       "    </tr>\n",
       "    <tr>\n",
       "      <td>32</td>\n",
       "      <td>0.110444</td>\n",
       "      <td>0.053547</td>\n",
       "      <td>00:00</td>\n",
       "    </tr>\n",
       "    <tr>\n",
       "      <td>33</td>\n",
       "      <td>0.104542</td>\n",
       "      <td>0.050159</td>\n",
       "      <td>00:00</td>\n",
       "    </tr>\n",
       "    <tr>\n",
       "      <td>34</td>\n",
       "      <td>0.098864</td>\n",
       "      <td>0.047520</td>\n",
       "      <td>00:00</td>\n",
       "    </tr>\n",
       "    <tr>\n",
       "      <td>35</td>\n",
       "      <td>0.093414</td>\n",
       "      <td>0.045471</td>\n",
       "      <td>00:00</td>\n",
       "    </tr>\n",
       "    <tr>\n",
       "      <td>36</td>\n",
       "      <td>0.088193</td>\n",
       "      <td>0.043822</td>\n",
       "      <td>00:00</td>\n",
       "    </tr>\n",
       "    <tr>\n",
       "      <td>37</td>\n",
       "      <td>0.083204</td>\n",
       "      <td>0.042535</td>\n",
       "      <td>00:00</td>\n",
       "    </tr>\n",
       "    <tr>\n",
       "      <td>38</td>\n",
       "      <td>0.078444</td>\n",
       "      <td>0.041710</td>\n",
       "      <td>00:00</td>\n",
       "    </tr>\n",
       "    <tr>\n",
       "      <td>39</td>\n",
       "      <td>0.073913</td>\n",
       "      <td>0.041207</td>\n",
       "      <td>00:00</td>\n",
       "    </tr>\n",
       "    <tr>\n",
       "      <td>40</td>\n",
       "      <td>0.069606</td>\n",
       "      <td>0.040876</td>\n",
       "      <td>00:00</td>\n",
       "    </tr>\n",
       "    <tr>\n",
       "      <td>41</td>\n",
       "      <td>0.065521</td>\n",
       "      <td>0.040683</td>\n",
       "      <td>00:00</td>\n",
       "    </tr>\n",
       "    <tr>\n",
       "      <td>42</td>\n",
       "      <td>0.061651</td>\n",
       "      <td>0.040556</td>\n",
       "      <td>00:00</td>\n",
       "    </tr>\n",
       "    <tr>\n",
       "      <td>43</td>\n",
       "      <td>0.057990</td>\n",
       "      <td>0.040528</td>\n",
       "      <td>00:00</td>\n",
       "    </tr>\n",
       "    <tr>\n",
       "      <td>44</td>\n",
       "      <td>0.054531</td>\n",
       "      <td>0.040626</td>\n",
       "      <td>00:00</td>\n",
       "    </tr>\n",
       "    <tr>\n",
       "      <td>45</td>\n",
       "      <td>0.051268</td>\n",
       "      <td>0.040827</td>\n",
       "      <td>00:00</td>\n",
       "    </tr>\n",
       "    <tr>\n",
       "      <td>46</td>\n",
       "      <td>0.048191</td>\n",
       "      <td>0.041079</td>\n",
       "      <td>00:00</td>\n",
       "    </tr>\n",
       "    <tr>\n",
       "      <td>47</td>\n",
       "      <td>0.045293</td>\n",
       "      <td>0.041351</td>\n",
       "      <td>00:00</td>\n",
       "    </tr>\n",
       "    <tr>\n",
       "      <td>48</td>\n",
       "      <td>0.042565</td>\n",
       "      <td>0.041636</td>\n",
       "      <td>00:00</td>\n",
       "    </tr>\n",
       "    <tr>\n",
       "      <td>49</td>\n",
       "      <td>0.039999</td>\n",
       "      <td>0.041920</td>\n",
       "      <td>00:00</td>\n",
       "    </tr>\n",
       "    <tr>\n",
       "      <td>50</td>\n",
       "      <td>0.037586</td>\n",
       "      <td>0.042202</td>\n",
       "      <td>00:00</td>\n",
       "    </tr>\n",
       "    <tr>\n",
       "      <td>51</td>\n",
       "      <td>0.035318</td>\n",
       "      <td>0.042474</td>\n",
       "      <td>00:00</td>\n",
       "    </tr>\n",
       "    <tr>\n",
       "      <td>52</td>\n",
       "      <td>0.033187</td>\n",
       "      <td>0.042733</td>\n",
       "      <td>00:00</td>\n",
       "    </tr>\n",
       "    <tr>\n",
       "      <td>53</td>\n",
       "      <td>0.031185</td>\n",
       "      <td>0.042986</td>\n",
       "      <td>00:00</td>\n",
       "    </tr>\n",
       "    <tr>\n",
       "      <td>54</td>\n",
       "      <td>0.029305</td>\n",
       "      <td>0.043222</td>\n",
       "      <td>00:00</td>\n",
       "    </tr>\n",
       "    <tr>\n",
       "      <td>55</td>\n",
       "      <td>0.027539</td>\n",
       "      <td>0.043440</td>\n",
       "      <td>00:00</td>\n",
       "    </tr>\n",
       "    <tr>\n",
       "      <td>56</td>\n",
       "      <td>0.025881</td>\n",
       "      <td>0.043643</td>\n",
       "      <td>00:00</td>\n",
       "    </tr>\n",
       "    <tr>\n",
       "      <td>57</td>\n",
       "      <td>0.024324</td>\n",
       "      <td>0.043827</td>\n",
       "      <td>00:00</td>\n",
       "    </tr>\n",
       "    <tr>\n",
       "      <td>58</td>\n",
       "      <td>0.022862</td>\n",
       "      <td>0.043991</td>\n",
       "      <td>00:00</td>\n",
       "    </tr>\n",
       "    <tr>\n",
       "      <td>59</td>\n",
       "      <td>0.021490</td>\n",
       "      <td>0.044141</td>\n",
       "      <td>00:00</td>\n",
       "    </tr>\n",
       "    <tr>\n",
       "      <td>60</td>\n",
       "      <td>0.020201</td>\n",
       "      <td>0.044275</td>\n",
       "      <td>00:00</td>\n",
       "    </tr>\n",
       "    <tr>\n",
       "      <td>61</td>\n",
       "      <td>0.018990</td>\n",
       "      <td>0.044397</td>\n",
       "      <td>00:00</td>\n",
       "    </tr>\n",
       "    <tr>\n",
       "      <td>62</td>\n",
       "      <td>0.017854</td>\n",
       "      <td>0.044508</td>\n",
       "      <td>00:00</td>\n",
       "    </tr>\n",
       "    <tr>\n",
       "      <td>63</td>\n",
       "      <td>0.016786</td>\n",
       "      <td>0.044609</td>\n",
       "      <td>00:00</td>\n",
       "    </tr>\n",
       "    <tr>\n",
       "      <td>64</td>\n",
       "      <td>0.015783</td>\n",
       "      <td>0.044697</td>\n",
       "      <td>00:00</td>\n",
       "    </tr>\n",
       "    <tr>\n",
       "      <td>65</td>\n",
       "      <td>0.014841</td>\n",
       "      <td>0.044776</td>\n",
       "      <td>00:00</td>\n",
       "    </tr>\n",
       "    <tr>\n",
       "      <td>66</td>\n",
       "      <td>0.013956</td>\n",
       "      <td>0.044844</td>\n",
       "      <td>00:00</td>\n",
       "    </tr>\n",
       "    <tr>\n",
       "      <td>67</td>\n",
       "      <td>0.013125</td>\n",
       "      <td>0.044905</td>\n",
       "      <td>00:00</td>\n",
       "    </tr>\n",
       "    <tr>\n",
       "      <td>68</td>\n",
       "      <td>0.012344</td>\n",
       "      <td>0.044960</td>\n",
       "      <td>00:00</td>\n",
       "    </tr>\n",
       "    <tr>\n",
       "      <td>69</td>\n",
       "      <td>0.011610</td>\n",
       "      <td>0.045009</td>\n",
       "      <td>00:00</td>\n",
       "    </tr>\n",
       "    <tr>\n",
       "      <td>70</td>\n",
       "      <td>0.010921</td>\n",
       "      <td>0.045053</td>\n",
       "      <td>00:00</td>\n",
       "    </tr>\n",
       "    <tr>\n",
       "      <td>71</td>\n",
       "      <td>0.010273</td>\n",
       "      <td>0.045091</td>\n",
       "      <td>00:00</td>\n",
       "    </tr>\n",
       "    <tr>\n",
       "      <td>72</td>\n",
       "      <td>0.009663</td>\n",
       "      <td>0.045125</td>\n",
       "      <td>00:00</td>\n",
       "    </tr>\n",
       "    <tr>\n",
       "      <td>73</td>\n",
       "      <td>0.009091</td>\n",
       "      <td>0.045156</td>\n",
       "      <td>00:00</td>\n",
       "    </tr>\n",
       "    <tr>\n",
       "      <td>74</td>\n",
       "      <td>0.008553</td>\n",
       "      <td>0.045183</td>\n",
       "      <td>00:00</td>\n",
       "    </tr>\n",
       "    <tr>\n",
       "      <td>75</td>\n",
       "      <td>0.008047</td>\n",
       "      <td>0.045207</td>\n",
       "      <td>00:00</td>\n",
       "    </tr>\n",
       "    <tr>\n",
       "      <td>76</td>\n",
       "      <td>0.007571</td>\n",
       "      <td>0.045228</td>\n",
       "      <td>00:00</td>\n",
       "    </tr>\n",
       "    <tr>\n",
       "      <td>77</td>\n",
       "      <td>0.007124</td>\n",
       "      <td>0.045246</td>\n",
       "      <td>00:00</td>\n",
       "    </tr>\n",
       "    <tr>\n",
       "      <td>78</td>\n",
       "      <td>0.006703</td>\n",
       "      <td>0.045262</td>\n",
       "      <td>00:00</td>\n",
       "    </tr>\n",
       "    <tr>\n",
       "      <td>79</td>\n",
       "      <td>0.006308</td>\n",
       "      <td>0.045276</td>\n",
       "      <td>00:00</td>\n",
       "    </tr>\n",
       "    <tr>\n",
       "      <td>80</td>\n",
       "      <td>0.005936</td>\n",
       "      <td>0.045289</td>\n",
       "      <td>00:00</td>\n",
       "    </tr>\n",
       "    <tr>\n",
       "      <td>81</td>\n",
       "      <td>0.005586</td>\n",
       "      <td>0.045300</td>\n",
       "      <td>00:00</td>\n",
       "    </tr>\n",
       "    <tr>\n",
       "      <td>82</td>\n",
       "      <td>0.005258</td>\n",
       "      <td>0.045310</td>\n",
       "      <td>00:00</td>\n",
       "    </tr>\n",
       "    <tr>\n",
       "      <td>83</td>\n",
       "      <td>0.004948</td>\n",
       "      <td>0.045318</td>\n",
       "      <td>00:00</td>\n",
       "    </tr>\n",
       "    <tr>\n",
       "      <td>84</td>\n",
       "      <td>0.004658</td>\n",
       "      <td>0.045325</td>\n",
       "      <td>00:00</td>\n",
       "    </tr>\n",
       "    <tr>\n",
       "      <td>85</td>\n",
       "      <td>0.004384</td>\n",
       "      <td>0.045332</td>\n",
       "      <td>00:00</td>\n",
       "    </tr>\n",
       "    <tr>\n",
       "      <td>86</td>\n",
       "      <td>0.004127</td>\n",
       "      <td>0.045337</td>\n",
       "      <td>00:00</td>\n",
       "    </tr>\n",
       "    <tr>\n",
       "      <td>87</td>\n",
       "      <td>0.003885</td>\n",
       "      <td>0.045342</td>\n",
       "      <td>00:00</td>\n",
       "    </tr>\n",
       "    <tr>\n",
       "      <td>88</td>\n",
       "      <td>0.003657</td>\n",
       "      <td>0.045346</td>\n",
       "      <td>00:00</td>\n",
       "    </tr>\n",
       "    <tr>\n",
       "      <td>89</td>\n",
       "      <td>0.003443</td>\n",
       "      <td>0.045349</td>\n",
       "      <td>00:00</td>\n",
       "    </tr>\n",
       "    <tr>\n",
       "      <td>90</td>\n",
       "      <td>0.003241</td>\n",
       "      <td>0.045352</td>\n",
       "      <td>00:00</td>\n",
       "    </tr>\n",
       "    <tr>\n",
       "      <td>91</td>\n",
       "      <td>0.003052</td>\n",
       "      <td>0.045355</td>\n",
       "      <td>00:00</td>\n",
       "    </tr>\n",
       "    <tr>\n",
       "      <td>92</td>\n",
       "      <td>0.002874</td>\n",
       "      <td>0.045356</td>\n",
       "      <td>00:00</td>\n",
       "    </tr>\n",
       "    <tr>\n",
       "      <td>93</td>\n",
       "      <td>0.002706</td>\n",
       "      <td>0.045358</td>\n",
       "      <td>00:00</td>\n",
       "    </tr>\n",
       "    <tr>\n",
       "      <td>94</td>\n",
       "      <td>0.002548</td>\n",
       "      <td>0.045359</td>\n",
       "      <td>00:00</td>\n",
       "    </tr>\n",
       "    <tr>\n",
       "      <td>95</td>\n",
       "      <td>0.002400</td>\n",
       "      <td>0.045360</td>\n",
       "      <td>00:00</td>\n",
       "    </tr>\n",
       "    <tr>\n",
       "      <td>96</td>\n",
       "      <td>0.002260</td>\n",
       "      <td>0.045360</td>\n",
       "      <td>00:00</td>\n",
       "    </tr>\n",
       "    <tr>\n",
       "      <td>97</td>\n",
       "      <td>0.002128</td>\n",
       "      <td>0.045361</td>\n",
       "      <td>00:00</td>\n",
       "    </tr>\n",
       "    <tr>\n",
       "      <td>98</td>\n",
       "      <td>0.002005</td>\n",
       "      <td>0.045361</td>\n",
       "      <td>00:00</td>\n",
       "    </tr>\n",
       "    <tr>\n",
       "      <td>99</td>\n",
       "      <td>0.001888</td>\n",
       "      <td>0.045361</td>\n",
       "      <td>00:00</td>\n",
       "    </tr>\n",
       "  </tbody>\n",
       "</table>"
      ],
      "text/plain": [
       "<IPython.core.display.HTML object>"
      ]
     },
     "metadata": {},
     "output_type": "display_data"
    }
   ],
   "source": [
    "learn.fit_one_cycle(100, lr)"
   ]
  },
  {
   "cell_type": "code",
   "execution_count": 64,
   "metadata": {},
   "outputs": [
    {
     "data": {
      "text/html": [
       "\n",
       "<style>\n",
       "    /* Turns off some styling */\n",
       "    progress {\n",
       "        /* gets rid of default border in Firefox and Opera. */\n",
       "        border: none;\n",
       "        /* Needs to be in here for Safari polyfill so background images work as expected. */\n",
       "        background-size: auto;\n",
       "    }\n",
       "    progress:not([value]), progress:not([value])::-webkit-progress-bar {\n",
       "        background: repeating-linear-gradient(45deg, #7e7e7e, #7e7e7e 10px, #5c5c5c 10px, #5c5c5c 20px);\n",
       "    }\n",
       "    .progress-bar-interrupted, .progress-bar-interrupted::-webkit-progress-bar {\n",
       "        background: #F44336;\n",
       "    }\n",
       "</style>\n"
      ],
      "text/plain": [
       "<IPython.core.display.HTML object>"
      ]
     },
     "metadata": {},
     "output_type": "display_data"
    },
    {
     "data": {
      "text/html": [],
      "text/plain": [
       "<IPython.core.display.HTML object>"
      ]
     },
     "metadata": {},
     "output_type": "display_data"
    },
    {
     "data": {
      "text/plain": [
       "0.212981"
      ]
     },
     "execution_count": 64,
     "metadata": {},
     "output_type": "execute_result"
    }
   ],
   "source": [
    "# check RMSE of neural network model\n",
    "preds, targs = learn.get_preds()\n",
    "r_mse(preds, targs)"
   ]
  },
  {
   "cell_type": "code",
   "execution_count": 65,
   "metadata": {},
   "outputs": [
    {
     "data": {
      "text/plain": [
       "Path('models/nn_model.pth')"
      ]
     },
     "execution_count": 65,
     "metadata": {},
     "output_type": "execute_result"
    }
   ],
   "source": [
    "# save model\n",
    "learn.save('nn_model')"
   ]
  },
  {
   "cell_type": "code",
   "execution_count": 66,
   "metadata": {},
   "outputs": [],
   "source": [
    "# test nn_model on test data\n",
    "to_nn_test = TabularPandas(df_nn_test, procs_nn, cat_nn, cont_nn, y_names=dependent_variable)"
   ]
  },
  {
   "cell_type": "code",
   "execution_count": 67,
   "metadata": {},
   "outputs": [
    {
     "data": {
      "text/html": [
       "<table border=\"1\" class=\"dataframe\">\n",
       "  <thead>\n",
       "    <tr style=\"text-align: right;\">\n",
       "      <th></th>\n",
       "      <th>diameter</th>\n",
       "      <th>area</th>\n",
       "      <th>volume</th>\n",
       "      <th>diagonal_width</th>\n",
       "      <th>diagonal_length</th>\n",
       "      <th>biomass</th>\n",
       "    </tr>\n",
       "  </thead>\n",
       "  <tbody>\n",
       "    <tr>\n",
       "      <th>0</th>\n",
       "      <td>3.023000</td>\n",
       "      <td>4.940272</td>\n",
       "      <td>4.852227</td>\n",
       "      <td>2.861339</td>\n",
       "      <td>2.674060</td>\n",
       "      <td>2.884801</td>\n",
       "    </tr>\n",
       "    <tr>\n",
       "      <th>1</th>\n",
       "      <td>3.717692</td>\n",
       "      <td>8.183043</td>\n",
       "      <td>10.908120</td>\n",
       "      <td>3.430440</td>\n",
       "      <td>3.663008</td>\n",
       "      <td>3.543854</td>\n",
       "    </tr>\n",
       "    <tr>\n",
       "      <th>2</th>\n",
       "      <td>2.421781</td>\n",
       "      <td>3.320061</td>\n",
       "      <td>3.405238</td>\n",
       "      <td>2.282373</td>\n",
       "      <td>2.240543</td>\n",
       "      <td>2.660259</td>\n",
       "    </tr>\n",
       "    <tr>\n",
       "      <th>3</th>\n",
       "      <td>2.805515</td>\n",
       "      <td>4.329818</td>\n",
       "      <td>4.461299</td>\n",
       "      <td>2.515851</td>\n",
       "      <td>2.420848</td>\n",
       "      <td>2.484907</td>\n",
       "    </tr>\n",
       "    <tr>\n",
       "      <th>4</th>\n",
       "      <td>3.557748</td>\n",
       "      <td>6.834125</td>\n",
       "      <td>8.249636</td>\n",
       "      <td>3.434610</td>\n",
       "      <td>3.211527</td>\n",
       "      <td>3.411148</td>\n",
       "    </tr>\n",
       "    <tr>\n",
       "      <th>5</th>\n",
       "      <td>2.581906</td>\n",
       "      <td>3.167779</td>\n",
       "      <td>3.199508</td>\n",
       "      <td>2.581906</td>\n",
       "      <td>1.975978</td>\n",
       "      <td>2.484907</td>\n",
       "    </tr>\n",
       "    <tr>\n",
       "      <th>6</th>\n",
       "      <td>3.708642</td>\n",
       "      <td>5.831292</td>\n",
       "      <td>8.036151</td>\n",
       "      <td>3.693264</td>\n",
       "      <td>2.787933</td>\n",
       "      <td>3.100092</td>\n",
       "    </tr>\n",
       "  </tbody>\n",
       "</table>"
      ],
      "text/plain": [
       "<IPython.core.display.HTML object>"
      ]
     },
     "metadata": {},
     "output_type": "display_data"
    }
   ],
   "source": [
    "test_dl = to_nn_test.dataloaders(len(to_nn_test), shuffle=False)\n",
    "test_dl.show_batch()"
   ]
  },
  {
   "cell_type": "code",
   "execution_count": 68,
   "metadata": {},
   "outputs": [
    {
     "data": {
      "text/html": [
       "\n",
       "<style>\n",
       "    /* Turns off some styling */\n",
       "    progress {\n",
       "        /* gets rid of default border in Firefox and Opera. */\n",
       "        border: none;\n",
       "        /* Needs to be in here for Safari polyfill so background images work as expected. */\n",
       "        background-size: auto;\n",
       "    }\n",
       "    progress:not([value]), progress:not([value])::-webkit-progress-bar {\n",
       "        background: repeating-linear-gradient(45deg, #7e7e7e, #7e7e7e 10px, #5c5c5c 10px, #5c5c5c 20px);\n",
       "    }\n",
       "    .progress-bar-interrupted, .progress-bar-interrupted::-webkit-progress-bar {\n",
       "        background: #F44336;\n",
       "    }\n",
       "</style>\n"
      ],
      "text/plain": [
       "<IPython.core.display.HTML object>"
      ]
     },
     "metadata": {},
     "output_type": "display_data"
    },
    {
     "data": {
      "text/html": [],
      "text/plain": [
       "<IPython.core.display.HTML object>"
      ]
     },
     "metadata": {},
     "output_type": "display_data"
    },
    {
     "name": "stdout",
     "output_type": "stream",
     "text": [
      "validation RMSE: 0.212981 | test RMSE: 0.184166\n"
     ]
    }
   ],
   "source": [
    "# get preds on test data and compare RMSE with training value\n",
    "preds_test, targs_test = learn.get_preds(dl=test_dl)\n",
    "print(f'validation RMSE: {r_mse(preds, targs)} |', f'test RMSE: {r_mse(preds_test, targs_test)}')"
   ]
  },
  {
   "cell_type": "markdown",
   "metadata": {},
   "source": [
    "##### <center>Tune NN Hyperparameters to Optimize Performance</center>"
   ]
  },
  {
   "cell_type": "code",
   "execution_count": null,
   "metadata": {},
   "outputs": [],
   "source": [
    "# functions for calculating rmse\n",
    "def r_mse(pred, y): return round(math.sqrt(((pred-y)**2).mean()), 6)\n",
    "\n",
    "# store hyperparameter combinations to test \n",
    "ind_vars = [['diameter', 'area', 'volume', 'width', 'length', 'diagonal_width', 'diagonal_length'],\n",
    "            ['diameter', 'area', 'volume', 'width', 'length'],\n",
    "            ['diameter', 'area', 'volume', 'diagonal_width', 'diagonal_length'],\n",
    "            ['diameter', 'area', 'volume'],\n",
    "            ['diameter', 'area'],\n",
    "            ['diameter', 'volume'],\n",
    "            ['area', 'volume'],\n",
    "            ['diameter'],\n",
    "            ['area'],\n",
    "            ['volume']]\n",
    "\n",
    "batch_sizes = [4, 8, 16, 32]\n",
    "\n",
    "nn_lyr_sizes = [[1000, 500, 250, 125, 60], [1000, 500, 250, 125], [500, 250, 125, 60], [1000, 500, 250], \n",
    "                [500, 250, 125], [250, 125, 60], [1000, 500], [500, 250], [250, 125], [125, 60]]\n",
    "\n",
    "n_epochs = [250, 200, 150, 100, 50]\n",
    "\n",
    "hyperparam_config = []\n",
    "\n",
    "for ind_var in ind_vars:\n",
    "    df_nn = df.copy()\n",
    "    df_nn_test = df_test.copy()\n",
    "    df_nn = df_nn[ind_var + [dependent_variable]]\n",
    "    df_nn_test = df_nn_test[ind_var + [dependent_variable]]\n",
    "    cont_nn, cat_nn = cont_cat_split(df_nn, max_card = 9000, dep_var = dependent_variable)\n",
    "    cont_nn_test, cat_nn_test = cont_cat_split(df_nn_test, max_card = 9000, dep_var = dependent_variable)\n",
    "    procs_nn = [Categorify, FillMissing, Normalize]\n",
    "    to_nn = TabularPandas(df_nn, procs_nn, cat_nn, cont_nn, y_names=dependent_variable, splits = splits)\n",
    "    to_nn_test = TabularPandas(df_nn_test, procs_nn, cat_nn_test, cont_nn_test, y_names=dependent_variable)\n",
    "    \n",
    "    for batch_size in batch_sizes:\n",
    "        dls = to_nn.dataloaders(batch_size, shuffle=False)\n",
    "        y = to_nn.train.y\n",
    "\n",
    "        for lyr_size in nn_lyr_sizes:\n",
    "            learn = tabular_learner(dls, y_range=(math.floor(y.min()), math.ceil(y.max())), layers=lyr_size, n_out=1, loss_func=F.mse_loss) ## learn needs to reset after each iteration FIXME\n",
    "            lr = learn.lr_find().valley;\n",
    "\n",
    "            for n_epoch in n_epochs:\n",
    "                learn.fit_one_cycle(n_epoch, lr);\n",
    "                preds, targs = learn.get_preds()\n",
    "               \n",
    "                to_nn_test = TabularPandas(df_nn_test, procs_nn, cat_nn_test, cont_nn_test, y_names=dependent_variable)\n",
    "                test_dl = to_nn_test.dataloaders(len(to_nn_test), shuffle=False)\n",
    "                preds_test, targs_test = learn.get_preds(dl=test_dl)\n",
    "                \n",
    "                hyperparam_config.append([ind_var, batch_size, lyr_size, n_epoch, lr, r_mse(preds, targs), r_mse(preds_test, targs_test)])\n",
    "\n",
    "                print(f'independent vars: {ind_var} | batch size: {batch_size} | layer size: {lyr_size} | epochs: {n_epoch} | lr: {lr} | Val RMSE: {r_mse(preds, targs)} | Test RMSE: {r_mse(preds_test, targs_test)}')\n",
    "                print()\n",
    "\n",
    "                # reset learn for next trial\n",
    "                learn = tabular_learner(dls, y_range=(math.floor(y.min()), math.ceil(y.max())), layers=lyr_size, n_out=1, loss_func=F.mse_loss)"
   ]
  },
  {
   "cell_type": "code",
   "execution_count": 54,
   "metadata": {},
   "outputs": [
    {
     "name": "stdout",
     "output_type": "stream",
     "text": [
      "Best Hyperparameter Configuration: [['diameter', 'area', 'volume', 'diagonal_width', 'diagonal_length'], 8, [125, 60], 100, 0.090135, 0.068527]\n"
     ]
    }
   ],
   "source": [
    "# Print hyperparam combination for row in hyperparam_config with lowest test RMSE\n",
    "min_test_rmse = min([r[6] for r in hyperparam_config])\n",
    "for row in hyperparam_config:\n",
    "    if row[6] == min_test_rmse:\n",
    "        print(f'Best Hyperparameter Configuration: {row}')\n",
    "        break"
   ]
  }
 ],
 "metadata": {
  "kernelspec": {
   "display_name": "fastai_dl",
   "language": "python",
   "name": "python3"
  },
  "language_info": {
   "codemirror_mode": {
    "name": "ipython",
    "version": 3
   },
   "file_extension": ".py",
   "mimetype": "text/x-python",
   "name": "python",
   "nbconvert_exporter": "python",
   "pygments_lexer": "ipython3",
   "version": "3.11.9"
  }
 },
 "nbformat": 4,
 "nbformat_minor": 2
}
