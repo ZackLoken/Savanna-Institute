{
 "cells": [
  {
   "cell_type": "code",
   "execution_count": 15,
   "metadata": {},
   "outputs": [],
   "source": [
    "import pandas as pd\n",
    "import numpy as np\n",
    "import matplotlib.pyplot as plt\n",
    "\n",
    "# Load the data from csv file\n",
    "data = pd.read_csv(\"C:\\\\Users\\\\exx\\\\Downloads\\\\Rosemount_LeafOn_SfM_Canopies_PointVertexCoords.csv\")"
   ]
  },
  {
   "cell_type": "code",
   "execution_count": 16,
   "metadata": {},
   "outputs": [
    {
     "name": "stdout",
     "output_type": "stream",
     "text": [
      "Index(['treeID', 'area', 'diameter', 'volume', 'row', 'tree', 'xmin', 'ymin',\n",
      "       'xmax', 'ymax', 'width', 'length', 'POINT_X', 'POINT_Y'],\n",
      "      dtype='object')\n"
     ]
    }
   ],
   "source": [
    "# list columns in data\n",
    "print(data.columns)"
   ]
  },
  {
   "cell_type": "code",
   "execution_count": 17,
   "metadata": {},
   "outputs": [
    {
     "name": "stdout",
     "output_type": "stream",
     "text": [
      "      treeID      area  diameter    volume  row  tree        xmin  \\\n",
      "0          1  0.702875  0.932928  0.917779    2     1  492091.600   \n",
      "2375       2  0.580025  0.847863  0.286037    2     2  492094.270   \n",
      "3466       3  2.625800  1.800605  3.096977    2     4  492098.905   \n",
      "7393       4  0.496925  0.786473  0.268756    2     5  492102.285   \n",
      "8510       5  0.783250  0.991370  0.481919    2     6  492105.190   \n",
      "\n",
      "             ymin        xmax         ymax  width  length  \n",
      "0     4952560.805  492092.745  4952562.130  1.145   1.325  \n",
      "2375  4952561.230  492095.345  4952562.315  1.075   1.085  \n",
      "3466  4952560.360  492100.990  4952562.745  2.085   2.385  \n",
      "7393  4952561.120  492103.435  4952562.060  1.150   0.940  \n",
      "8510  4952560.830  492106.180  4952562.295  0.990   1.465  \n"
     ]
    }
   ],
   "source": [
    "# width = xmax - xmin (in UTM)\n",
    "# length = ymax - ymin (in UTM)\n",
    "new_data = data.copy()\n",
    "\n",
    "# only keep the first row of each unique treeID\n",
    "new_data = new_data.drop_duplicates(subset='treeID')\n",
    "\n",
    "# drop POINT_X and POINT_Y columns\n",
    "new_data = new_data.drop(columns=['POINT_X', 'POINT_Y'])\n",
    "\n",
    "# print first 5 rows\n",
    "print(new_data.head())\n"
   ]
  },
  {
   "cell_type": "code",
   "execution_count": 18,
   "metadata": {},
   "outputs": [],
   "source": [
    "# calculate diagonal width, length, and diameter for each tree\n",
    "new_data.loc[:, 'diagonal_width'] = np.nan\n",
    "new_data.loc[:, 'diagonal_length'] = np.nan\n",
    "new_data.loc[:, 'diameter'] = np.nan\n",
    "\n",
    "for treeID in new_data['treeID']:\n",
    "    tree = data[data['treeID'] == treeID].copy()\n",
    "    tree.loc[:, 'x_ymin'] = min(tree.loc[tree['POINT_Y'] == tree['POINT_Y'].min(), 'POINT_X'])\n",
    "    tree.loc[:, 'x_ymax'] = max(tree.loc[tree['POINT_Y'] == tree['POINT_Y'].max(), 'POINT_X'])\n",
    "    tree.loc[:, 'y_xmin'] = min(tree.loc[tree['POINT_X'] == tree['POINT_X'].min(), 'POINT_Y'])\n",
    "    tree.loc[:, 'y_xmax'] = max(tree.loc[tree['POINT_X'] == tree['POINT_X'].max(), 'POINT_Y'])\n",
    "    tree.loc[:, 'diagonal_width'] = np.sqrt(((tree['xmax'] - tree['xmin'])**2 + (tree['y_xmax'] - tree['y_xmin'])**2))\n",
    "    tree.loc[:, 'diagonal_length'] = np.sqrt(((tree['ymax'] - tree['ymin'])**2 + (tree['x_ymax'] - tree['x_ymin'])**2))\n",
    "\n",
    "    # find diameter (this takes a while to execute)\n",
    "    max_distance = 0\n",
    "    for i in range(len(tree)):\n",
    "        for j in range(i+1, len(tree)):\n",
    "            # diameter is longest euclidean distance between any two points in polygon\n",
    "            distance = np.sqrt((tree.iloc[i]['POINT_X'] - tree.iloc[j]['POINT_X'])**2 + (tree.iloc[i]['POINT_Y'] - tree.iloc[j]['POINT_Y'])**2)\n",
    "            if distance > max_distance:\n",
    "                max_distance = distance\n",
    "\n",
    "    new_data.loc[new_data['treeID'] == treeID, 'diameter'] = max_distance\n",
    "    new_data.loc[new_data['treeID'] == treeID, 'diagonal_width'] = tree['diagonal_width'].values[0]\n",
    "    new_data.loc[new_data['treeID'] == treeID, 'diagonal_length'] = tree['diagonal_length'].values[0]\n",
    "    new_data.loc[new_data['treeID'] == treeID, 'x_ymin'] = float(tree['x_ymin'].values[0])\n",
    "    new_data.loc[new_data['treeID'] == treeID, 'x_ymax'] = float(tree['x_ymax'].values[0])\n",
    "    new_data.loc[new_data['treeID'] == treeID, 'y_xmin'] = float(tree['y_xmin'].values[0])\n",
    "    new_data.loc[new_data['treeID'] == treeID, 'y_xmax'] = float(tree['y_xmax'].values[0])"
   ]
  },
  {
   "cell_type": "code",
   "execution_count": 19,
   "metadata": {},
   "outputs": [
    {
     "name": "stdout",
     "output_type": "stream",
     "text": [
      "      treeID      area  diameter    volume  row  tree        xmin  \\\n",
      "0          1  0.702875  1.559046  0.917779    2     1  492091.600   \n",
      "2375       2  0.580025  1.285972  0.286037    2     2  492094.270   \n",
      "3466       3  2.625800  2.514806  3.096977    2     4  492098.905   \n",
      "7393       4  0.496925  1.240363  0.268756    2     5  492102.285   \n",
      "8510       5  0.783250  1.478792  0.481919    2     6  492105.190   \n",
      "\n",
      "             ymin        xmax         ymax  width  length  diagonal_width  \\\n",
      "0     4952560.805  492092.745  4952562.130  1.145   1.325        1.321599   \n",
      "2375  4952561.230  492095.345  4952562.315  1.075   1.085        1.095320   \n",
      "3466  4952560.360  492100.990  4952562.745  2.085   2.385        2.345815   \n",
      "7393  4952561.120  492103.435  4952562.060  1.150   0.940        1.208056   \n",
      "8510  4952560.830  492106.180  4952562.295  0.990   1.465        1.015246   \n",
      "\n",
      "      diagonal_length      x_ymin      x_ymax       y_xmin       y_xmax  \n",
      "0            1.388470  492092.120  492092.535  4952561.385  4952562.045  \n",
      "2375         1.232660  492095.075  492094.490  4952561.725  4952561.515  \n",
      "3466         2.388273  492100.370  492100.245  4952562.045  4952560.970  \n",
      "7393         0.954372  492103.085  492103.250  4952561.400  4952561.770  \n",
      "8510         1.472659  492105.470  492105.620  4952561.215  4952561.440  \n"
     ]
    }
   ],
   "source": [
    "print(new_data.head())"
   ]
  },
  {
   "cell_type": "code",
   "execution_count": 20,
   "metadata": {},
   "outputs": [],
   "source": [
    "# save df to csv\n",
    "new_data.to_csv(\"C:\\\\Users\\\\exx\\\\Downloads\\\\Rosemount_SfM_Canopies_Euclidean_HW.csv\", index=False)"
   ]
  }
 ],
 "metadata": {
  "kernelspec": {
   "display_name": "base",
   "language": "python",
   "name": "python3"
  },
  "language_info": {
   "codemirror_mode": {
    "name": "ipython",
    "version": 3
   },
   "file_extension": ".py",
   "mimetype": "text/x-python",
   "name": "python",
   "nbconvert_exporter": "python",
   "pygments_lexer": "ipython3",
   "version": "3.11.7"
  }
 },
 "nbformat": 4,
 "nbformat_minor": 2
}
