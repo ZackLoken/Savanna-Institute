{
 "cells": [
  {
   "cell_type": "code",
   "execution_count": 9,
   "metadata": {},
   "outputs": [],
   "source": [
    "import pandas as pd\n",
    "import numpy as np\n",
    "import matplotlib.pyplot as plt\n",
    "\n",
    "# Load the data from csv file\n",
    "data = pd.read_csv(\"C:\\\\Users\\\\exx\\\\Downloads\\\\Rosemount_LeafOn_SfM_Canopies_PointVertexCoords.csv\")"
   ]
  },
  {
   "cell_type": "code",
   "execution_count": 10,
   "metadata": {},
   "outputs": [
    {
     "name": "stdout",
     "output_type": "stream",
     "text": [
      "Index(['treeID', 'diameter', 'area', 'volume', 'row', 'tree', 'xmin', 'ymin',\n",
      "       'xmax', 'ymax', 'width', 'length', 'POINT_X', 'POINT_Y'],\n",
      "      dtype='object')\n"
     ]
    }
   ],
   "source": [
    "# list columns in data\n",
    "print(data.columns)"
   ]
  },
  {
   "cell_type": "code",
   "execution_count": 11,
   "metadata": {},
   "outputs": [
    {
     "name": "stdout",
     "output_type": "stream",
     "text": [
      "       treeID  diameter      area    volume  row  tree           xmin  \\\n",
      "0           4  2.144426  3.660047  4.315648    2     1  492090.907855   \n",
      "2709        5  1.414493  1.647882  0.565725    2    11  492118.886217   \n",
      "4996        6  2.787853  6.299513  5.092399    2     4  492098.282423   \n",
      "11641       7  1.218108  1.193735  0.474788    2     2  492094.017673   \n",
      "13434       8  1.369170  1.534295  0.608245    2     6  492104.917035   \n",
      "\n",
      "               ymin           xmax          ymax     width   length  \n",
      "0      4.952560e+06  492093.227719  4.952563e+06  2.319864  2.42486  \n",
      "2709   4.952561e+06  492120.501123  4.952563e+06  1.614906  1.57991  \n",
      "4996   4.952560e+06  492102.322187  4.952563e+06  4.039764  2.81483  \n",
      "11641  4.952561e+06  492095.487587  4.952562e+06  1.469914  1.35492  \n",
      "13434  4.952561e+06  492106.631934  4.952562e+06  1.714899  1.61991  \n"
     ]
    }
   ],
   "source": [
    "# width = xmax - xmin (in UTM)\n",
    "# length = ymax - ymin (in UTM)\n",
    "new_data = data.copy()\n",
    "\n",
    "# only keep the first row of each unique treeID\n",
    "new_data = new_data.drop_duplicates(subset='treeID')\n",
    "\n",
    "# drop POINT_X and POINT_Y columns\n",
    "new_data = new_data.drop(columns=['POINT_X', 'POINT_Y'])\n",
    "\n",
    "# print first 5 rows\n",
    "print(new_data.head())\n"
   ]
  },
  {
   "cell_type": "code",
   "execution_count": 12,
   "metadata": {},
   "outputs": [],
   "source": [
    "# calculate diagonal width, length, and diameter for each tree\n",
    "new_data.loc[:, 'diagonal_width'] = np.nan\n",
    "new_data.loc[:, 'diagonal_length'] = np.nan\n",
    "new_data.loc[:, 'diameter'] = np.nan\n",
    "\n",
    "for treeID in new_data['treeID']:\n",
    "    tree = data[data['treeID'] == treeID].copy()\n",
    "    tree.loc[:, 'x_ymin'] = min(tree.loc[tree['POINT_Y'] == tree['POINT_Y'].min(), 'POINT_X'])\n",
    "    tree.loc[:, 'x_ymax'] = max(tree.loc[tree['POINT_Y'] == tree['POINT_Y'].max(), 'POINT_X'])\n",
    "    tree.loc[:, 'y_xmin'] = min(tree.loc[tree['POINT_X'] == tree['POINT_X'].min(), 'POINT_Y'])\n",
    "    tree.loc[:, 'y_xmax'] = max(tree.loc[tree['POINT_X'] == tree['POINT_X'].max(), 'POINT_Y'])\n",
    "    tree.loc[:, 'diagonal_width'] = np.sqrt(((tree['xmax'] - tree['xmin'])**2 + (tree['y_xmax'] - tree['y_xmin'])**2))\n",
    "    tree.loc[:, 'diagonal_length'] = np.sqrt(((tree['ymax'] - tree['ymin'])**2 + (tree['x_ymax'] - tree['x_ymin'])**2))\n",
    "\n",
    "    # find diameter (this takes a while to execute)\n",
    "    max_distance = 0\n",
    "    for i in range(len(tree)):\n",
    "        for j in range(i+1, len(tree)):\n",
    "            # diameter is longest euclidean distance between any two points in polygon\n",
    "            distance = np.sqrt((tree.iloc[i]['POINT_X'] - tree.iloc[j]['POINT_X'])**2 + (tree.iloc[i]['POINT_Y'] - tree.iloc[j]['POINT_Y'])**2)\n",
    "            if distance > max_distance:\n",
    "                max_distance = distance\n",
    "\n",
    "    new_data.loc[new_data['treeID'] == treeID, 'diameter'] = max_distance\n",
    "    new_data.loc[new_data['treeID'] == treeID, 'diagonal_width'] = tree['diagonal_width'].values[0]\n",
    "    new_data.loc[new_data['treeID'] == treeID, 'diagonal_length'] = tree['diagonal_length'].values[0]\n",
    "    new_data.loc[new_data['treeID'] == treeID, 'x_ymin'] = float(tree['x_ymin'].values[0])\n",
    "    new_data.loc[new_data['treeID'] == treeID, 'x_ymax'] = float(tree['x_ymax'].values[0])\n",
    "    new_data.loc[new_data['treeID'] == treeID, 'y_xmin'] = float(tree['y_xmin'].values[0])\n",
    "    new_data.loc[new_data['treeID'] == treeID, 'y_xmax'] = float(tree['y_xmax'].values[0])"
   ]
  },
  {
   "cell_type": "code",
   "execution_count": 13,
   "metadata": {},
   "outputs": [
    {
     "name": "stdout",
     "output_type": "stream",
     "text": [
      "       treeID  diameter      area    volume  row  tree           xmin  \\\n",
      "0           4  2.471843  3.660047  4.315648    2     1  492090.907855   \n",
      "2709        5  1.690618  1.647882  0.565725    2    11  492118.886217   \n",
      "4996        6  4.138676  6.299513  5.092399    2     4  492098.282423   \n",
      "11641       7  1.675114  1.193735  0.474788    2     2  492094.017673   \n",
      "13434       8  1.729754  1.534295  0.608245    2     6  492104.917035   \n",
      "\n",
      "               ymin           xmax          ymax     width   length  \\\n",
      "0      4.952560e+06  492093.227719  4.952563e+06  2.319864  2.42486   \n",
      "2709   4.952561e+06  492120.501123  4.952563e+06  1.614906  1.57991   \n",
      "4996   4.952560e+06  492102.322187  4.952563e+06  4.039764  2.81483   \n",
      "11641  4.952561e+06  492095.487587  4.952562e+06  1.469914  1.35492   \n",
      "13434  4.952561e+06  492106.631934  4.952562e+06  1.714899  1.61991   \n",
      "\n",
      "       diagonal_width  diagonal_length         x_ymin         x_ymax  \\\n",
      "0            2.320774         2.425731  492091.737806  492091.802802   \n",
      "2709         1.648274         1.579918  492119.951155  492119.956154   \n",
      "4996         4.065866         2.978889  492100.422298  492099.447355   \n",
      "11641        1.582036         1.398149  492094.817626  492094.472646   \n",
      "13434        1.721446         1.653178  492105.561997  492105.891978   \n",
      "\n",
      "             y_xmin        y_xmax  \n",
      "0      4.952561e+06  4.952561e+06  \n",
      "2709   4.952562e+06  4.952562e+06  \n",
      "4996   4.952562e+06  4.952561e+06  \n",
      "11641  4.952562e+06  4.952561e+06  \n",
      "13434  4.952562e+06  4.952562e+06  \n"
     ]
    }
   ],
   "source": [
    "print(new_data.head())"
   ]
  },
  {
   "cell_type": "code",
   "execution_count": 14,
   "metadata": {},
   "outputs": [],
   "source": [
    "# save df to csv\n",
    "new_data.to_csv(\"C:\\\\Users\\\\exx\\\\Downloads\\\\Rosemount_SfM_Canopies_Euclidean_HW.csv\", index=False)"
   ]
  }
 ],
 "metadata": {
  "kernelspec": {
   "display_name": "base",
   "language": "python",
   "name": "python3"
  },
  "language_info": {
   "codemirror_mode": {
    "name": "ipython",
    "version": 3
   },
   "file_extension": ".py",
   "mimetype": "text/x-python",
   "name": "python",
   "nbconvert_exporter": "python",
   "pygments_lexer": "ipython3",
   "version": "3.11.7"
  }
 },
 "nbformat": 4,
 "nbformat_minor": 2
}
