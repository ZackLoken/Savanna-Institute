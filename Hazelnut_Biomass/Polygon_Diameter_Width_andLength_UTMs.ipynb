{
 "cells": [
  {
   "cell_type": "code",
   "execution_count": 1,
   "metadata": {},
   "outputs": [],
   "source": [
    "import pandas as pd\n",
    "import numpy as np\n",
    "import matplotlib.pyplot as plt\n",
    "\n",
    "# Load the data from csv file here: \"S:\\Zack\\Imagery\\Hazelnut\\WPP_Farm_LiDAR\\ArcGIS_Pro_WPP_Farm_LiDAR\\WPP_BlockB_Hazelnut_CrossDim_HW.csv\"\n",
    "data = pd.read_csv(\"S:\\Zack\\Imagery\\Hazelnut\\WPP_Farm_LiDAR\\ArcGIS_Pro_WPP_Farm_LiDAR\\WPP_Farm_BlockB_LiDAR_Canopies_VertexPointCoords.csv\")"
   ]
  },
  {
   "cell_type": "code",
   "execution_count": 2,
   "metadata": {},
   "outputs": [
    {
     "name": "stdout",
     "output_type": "stream",
     "text": [
      "Index(['treeID', 'area', 'diameter', 'volume', 'xmin', 'ymin', 'xmax', 'ymax',\n",
      "       'width', 'length', 'POINT_X', 'POINT_Y'],\n",
      "      dtype='object')\n"
     ]
    }
   ],
   "source": [
    "# list columns in data\n",
    "print(data.columns)"
   ]
  },
  {
   "cell_type": "code",
   "execution_count": 3,
   "metadata": {},
   "outputs": [
    {
     "name": "stdout",
     "output_type": "stream",
     "text": [
      "       treeID       area  diameter     volume           xmin          ymin  \\\n",
      "0          99   5.130681  2.421100   3.715833  396328.834638  4.437270e+06   \n",
      "5649      100   5.971604  2.594172   3.930869  396338.166083  4.437270e+06   \n",
      "12188     102   4.266943  2.180919   2.739646  396343.148897  4.437270e+06   \n",
      "16851     104   8.123554  2.983567   5.165697  396348.733156  4.437270e+06   \n",
      "25295     107  20.194204  3.682439  19.641967  396358.280742  4.437269e+06   \n",
      "\n",
      "                xmax          ymax     width   length  \n",
      "0      396331.984978  4.437273e+06  3.150340  2.86119  \n",
      "5649   396341.387666  4.437273e+06  3.221583  3.55106  \n",
      "12188  396346.344565  4.437273e+06  3.195668  2.76434  \n",
      "16851  396353.128801  4.437273e+06  4.395645  3.65281  \n",
      "25295  396364.835206  4.437274e+06  6.554464  4.25103  \n"
     ]
    }
   ],
   "source": [
    "# width = xmax - xmin\n",
    "# length = ymax - ymin\n",
    "new_data = data.copy()\n",
    "\n",
    "# only keep the first row of each unique treeID\n",
    "new_data = new_data.drop_duplicates(subset='treeID')\n",
    "\n",
    "# drop POINT_X and POINT_Y columns\n",
    "new_data = new_data.drop(columns=['POINT_X', 'POINT_Y'])\n",
    "\n",
    "# print first 5 rows\n",
    "print(new_data.head())\n"
   ]
  },
  {
   "cell_type": "code",
   "execution_count": 4,
   "metadata": {},
   "outputs": [],
   "source": [
    "# calculate euclidean width, length, and diameter for each tree\n",
    "new_data.loc[:, 'diagonal_width'] = np.nan\n",
    "new_data.loc[:, 'diagonal_length'] = np.nan\n",
    "new_data.loc[:, 'diameter'] = np.nan\n",
    "\n",
    "for treeID in new_data['treeID']:\n",
    "    tree = data[data['treeID'] == treeID].copy()\n",
    "    tree.loc[:, 'x_ymin'] = min(tree.loc[tree['POINT_Y'] == tree['POINT_Y'].min(), 'POINT_X'])\n",
    "    tree.loc[:, 'x_ymax'] = max(tree.loc[tree['POINT_Y'] == tree['POINT_Y'].max(), 'POINT_X'])\n",
    "    tree.loc[:, 'y_xmin'] = min(tree.loc[tree['POINT_X'] == tree['POINT_X'].min(), 'POINT_Y'])\n",
    "    tree.loc[:, 'y_xmax'] = max(tree.loc[tree['POINT_X'] == tree['POINT_X'].max(), 'POINT_Y'])\n",
    "    tree.loc[:, 'diagonal_width'] = np.sqrt(((tree['xmax'] - tree['xmin'])**2 + (tree['y_xmax'] - tree['y_xmin'])**2))\n",
    "    tree.loc[:, 'diagonal_length'] = np.sqrt(((tree['ymax'] - tree['ymin'])**2 + (tree['x_ymax'] - tree['x_ymin'])**2))\n",
    "\n",
    "    # find diameter (this takes a while to execute)\n",
    "    max_distance = 0\n",
    "    for i in range(len(tree)):\n",
    "        for j in range(i+1, len(tree)):\n",
    "            # diameter is longest euclidean distance between any two points\n",
    "            distance = np.sqrt((tree.iloc[i]['POINT_X'] - tree.iloc[j]['POINT_X'])**2 + (tree.iloc[i]['POINT_Y'] - tree.iloc[j]['POINT_Y'])**2)\n",
    "            if distance > max_distance:\n",
    "                max_distance = distance\n",
    "\n",
    "    new_data.loc[new_data['treeID'] == treeID, 'diameter'] = max_distance\n",
    "    new_data.loc[new_data['treeID'] == treeID, 'diagonal_width'] = tree['diagonal_width'].values[0]\n",
    "    new_data.loc[new_data['treeID'] == treeID, 'diagonal_length'] = tree['diagonal_length'].values[0]\n",
    "    new_data.loc[new_data['treeID'] == treeID, 'x_ymin'] = float(tree['x_ymin'].values[0])\n",
    "    new_data.loc[new_data['treeID'] == treeID, 'x_ymax'] = float(tree['x_ymax'].values[0])\n",
    "    new_data.loc[new_data['treeID'] == treeID, 'y_xmin'] = float(tree['y_xmin'].values[0])\n",
    "    new_data.loc[new_data['treeID'] == treeID, 'y_xmax'] = float(tree['y_xmax'].values[0])"
   ]
  },
  {
   "cell_type": "code",
   "execution_count": 5,
   "metadata": {},
   "outputs": [
    {
     "name": "stdout",
     "output_type": "stream",
     "text": [
      "       treeID       area  diameter     volume           xmin          ymin  \\\n",
      "0          99   5.130681  3.299852   3.715833  396328.834638  4.437270e+06   \n",
      "5649      100   5.971604  3.791410   3.930869  396338.166083  4.437270e+06   \n",
      "12188     102   4.266943  3.326612   2.739646  396343.148897  4.437270e+06   \n",
      "16851     104   8.123554  4.397433   5.165697  396348.733156  4.437270e+06   \n",
      "25295     107  20.194204  6.725250  19.641967  396358.280742  4.437269e+06   \n",
      "\n",
      "                xmax          ymax     width   length  euclidean_width  \\\n",
      "0      396331.984978  4.437273e+06  3.150340  2.86119         3.152351   \n",
      "5649   396341.387666  4.437273e+06  3.221583  3.55106         3.335907   \n",
      "12188  396346.344565  4.437273e+06  3.195668  2.76434         3.326612   \n",
      "16851  396353.128801  4.437273e+06  4.395645  3.65281         4.397433   \n",
      "25295  396364.835206  4.437274e+06  6.554464  4.25103         6.558251   \n",
      "\n",
      "       euclidean_length         x_ymin         x_ymax        y_xmin  \\\n",
      "0              2.863862  396330.167826  396330.291510  4.437271e+06   \n",
      "5649           3.565139  396340.220523  396339.903997  4.437271e+06   \n",
      "12188          2.764341  396344.421198  396344.423354  4.437271e+06   \n",
      "16851          3.655058  396351.398429  396351.270263  4.437271e+06   \n",
      "25295          4.255757  396360.269638  396360.470171  4.437273e+06   \n",
      "\n",
      "             y_xmax  \n",
      "0      4.437271e+06  \n",
      "5649   4.437272e+06  \n",
      "12188  4.437272e+06  \n",
      "16851  4.437272e+06  \n",
      "25295  4.437272e+06  \n"
     ]
    }
   ],
   "source": [
    "print(new_data.head())"
   ]
  },
  {
   "cell_type": "code",
   "execution_count": 6,
   "metadata": {},
   "outputs": [],
   "source": [
    "# save \"S:\\Zack\\Imagery\\Hazelnut\\WPP_Farm_LiDAR\\ArcGIS_Pro_WPP_Farm_LiDAR\\WPP_BlockB_Hazelnut_Euclidean_HW.csv\"\n",
    "new_data.to_csv(\"S:\\Zack\\Imagery\\Hazelnut\\WPP_Farm_LiDAR\\ArcGIS_Pro_WPP_Farm_LiDAR\\outputs_forNate\\WPP_BlockB_Hazelnut_LiDAR_Euclidean_HW.csv\", index=False)"
   ]
  }
 ],
 "metadata": {
  "kernelspec": {
   "display_name": "base",
   "language": "python",
   "name": "python3"
  },
  "language_info": {
   "codemirror_mode": {
    "name": "ipython",
    "version": 3
   },
   "file_extension": ".py",
   "mimetype": "text/x-python",
   "name": "python",
   "nbconvert_exporter": "python",
   "pygments_lexer": "ipython3",
   "version": "3.11.5"
  }
 },
 "nbformat": 4,
 "nbformat_minor": 2
}
