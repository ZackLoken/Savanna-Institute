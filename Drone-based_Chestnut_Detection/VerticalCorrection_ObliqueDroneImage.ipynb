{
 "cells": [
  {
   "cell_type": "markdown",
   "metadata": {},
   "source": [
    "### <center> Vertical Correction for Oblique UAV Image using OpenCV and NumPy </center>\n",
    "\n",
    "##### Reference Paper: https://www.researchgate.net/publication/349184942_Video_Stitching_method_for_a_Surveillance_System_Deployed_at_a_Fully_Mechanized_Mining_Face\n"
   ]
  },
  {
   "cell_type": "code",
   "execution_count": 1,
   "metadata": {},
   "outputs": [],
   "source": [
    "import cv2\n",
    "import numpy as np\n",
    "import os\n",
    "import pandas as pd"
   ]
  },
  {
   "cell_type": "code",
   "execution_count": 2,
   "metadata": {},
   "outputs": [
    {
     "name": "stderr",
     "output_type": "stream",
     "text": [
      "C:\\Users\\zack\\AppData\\Local\\Temp\\ipykernel_29868\\683894077.py:57: RuntimeWarning: divide by zero encountered in divide\n",
      "  lambda_pixel = f / (pixel[1]*np.sin(alpha) + pixel[0]*np.cos(alpha))\n",
      "C:\\Users\\zack\\AppData\\Local\\Temp\\ipykernel_29868\\683894077.py:69: RuntimeWarning: invalid value encountered in multiply\n",
      "  pixel_prime = np.matmul(transformation_matrix, pixel) * lambda_pixel\n"
     ]
    }
   ],
   "source": [
    "folders = [\"S:/Zack/Imagery/Chestnut/Annotation/Ohio/Route9/20230823_Route9-Orchard1perp_0.39GSD/\"]\n",
    "        #    \"S:/Zack/Imagery/Chestnut/Annotation/Ohio/Route9/20230824_Route9-Orchard1perp_0.84GSD/\",\n",
    "        #    \"S:/Zack/Imagery/Chestnut/Annotation/Ohio/Route9/20230824_Route9-Orchard2_0.86GSD/\",\n",
    "        #    \"S:/Zack/Imagery/Chestnut/Annotation/Ohio/Route9/20230824_Route9-Orchard3-closePar_RGB_0.67GSD/\",\n",
    "        #    \"S:/Zack/Imagery/Chestnut/Annotation/Ohio/Route9/DJI_202308231046_004_Route9Orchard1South_0.75GSD/\",\n",
    "        #    \"S:/Zack/Imagery/Chestnut/Annotation/Ohio/Route9/DJI_202308231102_005_Route9Orchard1North_1.60GSD/\"]\n",
    "\n",
    "for folder in folders:\n",
    "\n",
    "    # Get list of .csv files in folder\n",
    "    files = [file for file in os.listdir(folder) if file.endswith((\".csv\"))]\n",
    "\n",
    "    # loop through files to load into dataframe\n",
    "    for file in files:\n",
    "        # load csv file into dataframe\n",
    "        df = pd.read_csv(folder + file)\n",
    "    \n",
    "    # loop through images and load any oblique images using df['SourceFile'] as path for loading image\n",
    "    for image in df.index:\n",
    "        \n",
    "        # perform vertical correction if image is oblique\n",
    "        if abs(df['GimbalPitchDegree'][image].astype(float)) != 90:\n",
    "            \n",
    "            # get path to image\n",
    "            path = df['SourceFile'][image]\n",
    "\n",
    "            # load image\n",
    "            img = cv2.imread(path)\n",
    "\n",
    "            # get image dimensions\n",
    "            img_H = img.shape[0]\n",
    "            img_W = img.shape[1]\n",
    "\n",
    "            # alpha is angle of rotation from nadir (vertical; 90 degrees) to oblique\n",
    "            alpha = 90 - abs(df['GimbalPitchDegree'][image].astype(float))\n",
    "            # print('alpha: ', alpha)\n",
    "            # print()\n",
    "\n",
    "            # f is focal length of camera\n",
    "            f = df['FocalLength'][image].astype(float)\n",
    "\n",
    "            # create the two mapping matrices for x and y\n",
    "            map_x = np.zeros((img.shape[0], img.shape[1]), dtype=np.float32)\n",
    "            map_y = np.zeros((img.shape[0], img.shape[1]), dtype=np.float32)\n",
    "            \n",
    "            # for every pixel in img, correct for obliqueness\n",
    "            for x in range(map_x.shape[0]):\n",
    "                \n",
    "                for y in range(map_x.shape[1]):\n",
    "                    \n",
    "                    # Store pixel coordinates in matrix with 1 column 3 rows\n",
    "                    pixel = np.array([[x],[y],[f]], dtype = float)\n",
    "                    # print('pixel: ', pixel)\n",
    "                    # print()\n",
    "\n",
    "                    # lambda_pixel equals f divided by y*sin(alpha)+x*cos(alpha)\n",
    "                    lambda_pixel = f / (pixel[1]*np.sin(alpha) + pixel[0]*np.cos(alpha))\n",
    "                    # print('lambda: ', lambda_pixel)\n",
    "                    # print()\n",
    "\n",
    "                    # define perspective correction matrix following paper linked above\n",
    "                    transformation_matrix = np.array([[1, 0, 0], \n",
    "                                                    [0, np.cos(alpha), -np.sin(alpha)], \n",
    "                                                    [0, np.sin(alpha), np.cos(alpha)]])\n",
    "                    # print('transformation matrix: ', transformation_matrix)\n",
    "                    # print()\n",
    "\n",
    "                    # pixel' equals lambda_pixel * [transformation_matrix] * [pixel]\n",
    "                    pixel_prime = np.matmul(transformation_matrix, pixel) * lambda_pixel \n",
    "                    # print('corrected pixel: ', pixel_prime)\n",
    "                    # print()\n",
    "\n",
    "                    # create a map that correlates pixel' to pixel\n",
    "                    map_x[x,y] = pixel_prime[0]\n",
    "                    map_y[x,y] = pixel_prime[1]\n",
    "                    # print('map_x: ', map_x[x,y])\n",
    "                    # print()\n",
    "\n",
    "            # remap image using map_x and map_y\n",
    "            dst = cv2.remap(img, map_x, map_y, cv2.INTER_LINEAR)\n",
    "\n",
    "            # save image in same folder as original image. append 'corrected' to filename\n",
    "            cv2.imwrite(path[:-4] + '_corrected.jpg', dst)\n",
    "\n",
    "        # break after first image\n",
    "        break\n",
    "    break"
   ]
  },
  {
   "cell_type": "code",
   "execution_count": 3,
   "metadata": {},
   "outputs": [],
   "source": [
    "# display corrected image\n",
    "cv2.imshow('corrected', dst)"
   ]
  }
 ],
 "metadata": {
  "kernelspec": {
   "display_name": "base",
   "language": "python",
   "name": "python3"
  },
  "language_info": {
   "codemirror_mode": {
    "name": "ipython",
    "version": 3
   },
   "file_extension": ".py",
   "mimetype": "text/x-python",
   "name": "python",
   "nbconvert_exporter": "python",
   "pygments_lexer": "ipython3",
   "version": "3.11.5"
  }
 },
 "nbformat": 4,
 "nbformat_minor": 2
}
