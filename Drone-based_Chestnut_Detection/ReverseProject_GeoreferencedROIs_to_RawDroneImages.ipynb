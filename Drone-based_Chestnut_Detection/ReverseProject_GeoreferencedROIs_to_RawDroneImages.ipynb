{
 "cells": [
  {
   "cell_type": "markdown",
   "metadata": {},
   "source": [
    "### <center> Backward Projecting Canopies onto Raw UAV Images </center>\n",
    "##### EasyIDP: https://easyidp.readthedocs.io/en/latest/index.html"
   ]
  },
  {
   "cell_type": "code",
   "execution_count": 1,
   "metadata": {},
   "outputs": [],
   "source": [
    "import os\n",
    "import pickle\n",
    "# Install EasyIDP 2.0 from source\n",
    "import sys\n",
    "sys.path.insert(0, r'C:/Users/zack/anaconda3/envs/easyidp/Lib/site-packages/EasyIDP-2.0')\n",
    "import easyidp as idp"
   ]
  },
  {
   "cell_type": "code",
   "execution_count": 30,
   "metadata": {},
   "outputs": [],
   "source": [
    "# define variable paths\n",
    "shapefile_path = \"Route9_Orchard4_TreeCrowns_Final.shp\"\n",
    "dsm_path = \"Route9_Orchard4_LeafOn_DSM.tif\"\n",
    "Pix4D_path = \"D:\\Savanna Institute Drone 2023\\Route 9\\Mosaics\\Route9 - Orchard 4\"\n",
    "raw_img_folder_path = \"D:/Savanna Institute Drone 2023/Route 9/Raw Images/Orchard 4/20230823_Route9-Orchard4\"\n",
    "param_folder_path = \"F:/Savanna Institute Drone 2023/Route 9/Mosaics/Route9 - Orchard 4/20230823_Route9-Orchard4/1_initial/params\"\n",
    "output_folder_path = \"S:/Zack/Imagery/Chestnut/Individual_Tree_Trunks/Route9/Route9_Orchard3_DawsonLab/RawImages_ReverseProjection\""
   ]
  },
  {
   "cell_type": "code",
   "execution_count": null,
   "metadata": {},
   "outputs": [],
   "source": [
    "# shapefile with polygon boundaries\n",
    "roi = idp.ROI(shapefile_path, name_field='treeID')"
   ]
  },
  {
   "cell_type": "code",
   "execution_count": null,
   "metadata": {},
   "outputs": [],
   "source": [
    "# check that the shapefile loaded correctly\n",
    "roi"
   ]
  },
  {
   "cell_type": "code",
   "execution_count": null,
   "metadata": {},
   "outputs": [],
   "source": [
    "# load the dsm\n",
    "dsm = idp.GeoTiff(dsm_path)"
   ]
  },
  {
   "cell_type": "code",
   "execution_count": null,
   "metadata": {},
   "outputs": [],
   "source": [
    "# set dsm CRS metadata info to match the shapefile CRS (Both should be UTM)\n",
    "# they are in the same CRS, but the DSM metadata loads without CRS info. \n",
    "dsm.header[\"crs\"] = roi.crs"
   ]
  },
  {
   "cell_type": "code",
   "execution_count": null,
   "metadata": {},
   "outputs": [],
   "source": [
    "roi.get_z_from_dsm(dsm)"
   ]
  },
  {
   "cell_type": "code",
   "execution_count": null,
   "metadata": {},
   "outputs": [],
   "source": [
    "# check that the z values were added to polygon x,y coordinates\n",
    "roi "
   ]
  },
  {
   "cell_type": "code",
   "execution_count": null,
   "metadata": {},
   "outputs": [],
   "source": [
    "# Read 3D reconstruction project from Pix4D\n",
    "p4d = idp.Pix4D(project_path = Pix4D_path, raw_img_folder = raw_img_folder_path, param_folder = param_folder_path)"
   ]
  },
  {
   "cell_type": "code",
   "execution_count": null,
   "metadata": {},
   "outputs": [],
   "source": [
    "# do the backward projection\n",
    "img_dict_p4d = roi.back2raw(p4d, save_folder = output_folder_path)"
   ]
  },
  {
   "cell_type": "code",
   "execution_count": null,
   "metadata": {},
   "outputs": [],
   "source": [
    "# view pixel polygon coordinates for all images with specified polygon ID\n",
    "img_dict_p4d['33']"
   ]
  },
  {
   "cell_type": "code",
   "execution_count": null,
   "metadata": {},
   "outputs": [],
   "source": [
    "# or for just one image\n",
    "img_dict_p4d['33']['DJI_20230823125646_0967_D']"
   ]
  },
  {
   "cell_type": "code",
   "execution_count": null,
   "metadata": {},
   "outputs": [],
   "source": [
    "# preview the results for one image\n",
    "p4d.show_roi_on_img(img_dict_p4d, \"33\", \"DJI_20230823125646_0967_D\")"
   ]
  },
  {
   "cell_type": "code",
   "execution_count": null,
   "metadata": {},
   "outputs": [],
   "source": [
    "# or all images with that polygon ID\n",
    "p4d.show_roi_on_img(img_dict_p4d, \"33\")"
   ]
  },
  {
   "cell_type": "code",
   "execution_count": null,
   "metadata": {},
   "outputs": [],
   "source": [
    "# count of images with polygon ID\n",
    "len(img_dict_p4d[\"33\"])"
   ]
  },
  {
   "cell_type": "code",
   "execution_count": null,
   "metadata": {},
   "outputs": [],
   "source": [
    "# save the best 5 images to folder using minimum distance from image to ROI\n",
    "img_dict_sort = p4d.sort_img_by_distance(\n",
    "    img_dict_p4d, roi,\n",
    "    distance_thresh=10,  # distance threshold is 2m\n",
    "    num=5,\n",
    "    save_folder= \"C:/Users/zack/Desktop/easyIDP/Route9_Orchard3/best5_images\"  # only keep 5 closest images\n",
    ")"
   ]
  },
  {
   "cell_type": "code",
   "execution_count": null,
   "metadata": {},
   "outputs": [],
   "source": [
    "# Save img_dict_sort as pkl file\n",
    "import pickle\n",
    "with open('C:/Users/zack/Desktop/easyIDP/Route9_Orchard3/Route9_Orchard3_ROI_pixelCoords_best5.pkl', 'wb') as f:\n",
    "    pickle.dump(img_dict_sort, f)"
   ]
  },
  {
   "cell_type": "code",
   "execution_count": null,
   "metadata": {},
   "outputs": [],
   "source": [
    "# view the polygon pixel coords for best 5 images for one polygon ID\n",
    "img_dict_sort[\"33\"]"
   ]
  },
  {
   "cell_type": "code",
   "execution_count": null,
   "metadata": {},
   "outputs": [],
   "source": [
    "# preview result for one image\n",
    "p4d.show_roi_on_img(img_dict_p4d, \"33\", \"DJI_20230823125646_0967_D\")"
   ]
  },
  {
   "cell_type": "code",
   "execution_count": null,
   "metadata": {},
   "outputs": [],
   "source": [
    "# or for all 3 best\n",
    "p4d.show_roi_on_img(img_dict_sort, \"33\", save_as=\"C:/Users/zack/Desktop/easyIDP/Route9_Orchard3/preview_all_tree33.png\")"
   ]
  }
 ],
 "metadata": {
  "kernelspec": {
   "display_name": "easyidp",
   "language": "python",
   "name": "python3"
  },
  "language_info": {
   "codemirror_mode": {
    "name": "ipython",
    "version": 3
   },
   "file_extension": ".py",
   "mimetype": "text/x-python",
   "name": "python",
   "nbconvert_exporter": "python",
   "pygments_lexer": "ipython3",
   "version": "3.9.18"
  }
 },
 "nbformat": 4,
 "nbformat_minor": 2
}
