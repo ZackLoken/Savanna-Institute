{
 "cells": [
  {
   "cell_type": "markdown",
   "metadata": {},
   "source": [
    "### <center> Calculating GSD from image EXIF metadata using [PyExifTool](https://pypi.org/project/PyExifTool/) </center>\n",
    "##### Requires Phil Harvey's [ExifTool](https://exiftool.org/) be installed and on system PATH\n"
   ]
  },
  {
   "cell_type": "code",
   "execution_count": 18,
   "metadata": {},
   "outputs": [
    {
     "name": "stdout",
     "output_type": "stream",
     "text": [
      "ExifTool is accessible.\n",
      "\n"
     ]
    }
   ],
   "source": [
    "import os\n",
    "import subprocess\n",
    "import exiftool\n",
    "import pandas as pd\n",
    "\n",
    "# Check if ExifTool is accessible\n",
    "try:\n",
    "    subprocess.run([\"exiftool\", \"-ver\"], check=True)\n",
    "    print(\"ExifTool is accessible.\")\n",
    "except subprocess.CalledProcessError:\n",
    "    print(\"ExifTool is not accessible.\")\n",
    "print()\n",
    "\n",
    "def GSD_from_exif_batch(folder):\n",
    "    \"\"\"\n",
    "    Calculate ground sampling distance (GSD) in cm/pixel from Exif data for all images in folder\n",
    "    :param folder: path to folder containing images\n",
    "    :return: csv file containing Exif data and GSD for all images in folder\n",
    "    \"\"\"\n",
    "    # Get list of .JPG,.PNG, or .TIF files in folder\n",
    "    files = [file for file in os.listdir(folder) if file.endswith((\".JPG\", \".PNG\", \".TIF\"))]\n",
    "\n",
    "    # Add folder path to each file and store as string in quotations\n",
    "    files = [os.path.join(folder, file) for file in files]\n",
    "\n",
    "    # Print all tags for first file in folder\n",
    "    with exiftool.ExifToolHelper() as et:\n",
    "        for d in et.get_metadata(files[0]):\n",
    "            for k, v in d.items():\n",
    "                print(f\"{k} = {v}\")\n",
    "    print()\n",
    "\n",
    "    # Empty list for storing Exif data\n",
    "    Exif_data = []\n",
    "\n",
    "    # Values for calculating ground sampling distance (GSD) W,H in cm/pixel are: SensorWidth (mm),\n",
    "    # SensorHeight (mm), RelativeAltitude (m), FocalLength (mm), ImageWidth (px), ImageHeight (px)\n",
    "\n",
    "    # Store specified tags as list of dictionaries for all files in folder\n",
    "    with exiftool.ExifToolHelper() as et:\n",
    "        for d in et.get_tags(files[0:-1], tags=[\"SourceFile\", \"FileName\", \"ImageWidth\", \"ImageHeight\", # specify tags here\n",
    "                                                \"FocalLength\", \"RelativeAltitude\"]):\n",
    "            # append d to Exif_data list\n",
    "            Exif_data.append(d)\n",
    "\n",
    "    # Exif_data is a list of dictionaries. Convert to pandas dataframe where each unique value for SourceFile is a row\n",
    "    df = pd.DataFrame(Exif_data)\n",
    "\n",
    "    # Clean up column names; remove the text before the colon\n",
    "    df.columns = df.columns.str.split(\":\").str[-1]\n",
    "\n",
    "    # remove plus sign from RelativeAltitude\n",
    "    df[\"RelativeAltitude\"] = df[\"RelativeAltitude\"].str.replace(\"+\", \"\")\n",
    "\n",
    "    # Convert columns to float\n",
    "    df[\"RelativeAltitude\"] = df[\"RelativeAltitude\"].astype(float)\n",
    "    df[\"FocalLength\"] = df[\"FocalLength\"].astype(float)\n",
    "    df[\"ImageWidth\"] = df[\"ImageWidth\"].astype(float)\n",
    "    df[\"ImageHeight\"] = df[\"ImageHeight\"].astype(float)\n",
    "\n",
    "    # Add sensor width to dataframe (UAV is DJI Mavic 3M)\n",
    "    # https://sdk-forum.dji.net/hc/en-us/articles/12325496609689-What-is-the-custom-camera-parameters-for-Mavic-3-Enterprise-series-and-Mavic-3M-\n",
    "    df[\"SensorWidth\"] = 17.4\n",
    "\n",
    "    # Add GSDw and to dataframe\n",
    "    # GSDw = (SensorWidth * RelativeHeight * 100) / (FocalLength * ImageWidth)\n",
    "    df[\"GSDw\"] = (df.SensorWidth * df.RelativeAltitude * 100) / (df.FocalLength * df.ImageWidth)\n",
    "\n",
    "    # Save dataframe to csv\n",
    "    df.to_csv(os.path.join(folder, f\"Exif_data_{df['GSDw'].mean():.2f}.csv\"), index=False) # save mean GSDw in filename"
   ]
  },
  {
   "cell_type": "code",
   "execution_count": null,
   "metadata": {},
   "outputs": [],
   "source": [
    "# Define paths to folders containing images\n",
    "folders = [\"S:/Zack/Imagery/Chestnut/Annotation/Ohio/Route9/20230823_Route9-Orchard1perp/\",\n",
    "           \"S:/Zack/Imagery/Chestnut/Annotation/Ohio/Route9/20230824_Route9-Orchard1perp/\",\n",
    "           \"S:/Zack/Imagery/Chestnut/Annotation/Ohio/Route9/20230824_Route9-Orchard2/\",\n",
    "           \"S:/Zack/Imagery/Chestnut/Annotation/Ohio/Route9/20230824_Route9-Orchard3-closePar_RGB/\",\n",
    "           \"S:/Zack/Imagery/Chestnut/Annotation/Ohio/Route9/DJI_202308231046_004_Route9Orchard1South/\",\n",
    "           \"S:/Zack/Imagery/Chestnut/Annotation/Ohio/Route9/DJI_202308231102_005_Route9Orchard1North/\"]\n",
    "\n",
    "# Call function for each folder in folders\n",
    "for folder in folders:\n",
    "    GSD_from_exif_batch(folder) # saves csv file with GSD in folder\n"
   ]
  }
 ],
 "metadata": {
  "kernelspec": {
   "display_name": "base",
   "language": "python",
   "name": "python3"
  },
  "language_info": {
   "codemirror_mode": {
    "name": "ipython",
    "version": 3
   },
   "file_extension": ".py",
   "mimetype": "text/x-python",
   "name": "python",
   "nbconvert_exporter": "python",
   "pygments_lexer": "ipython3",
   "version": "3.11.5"
  }
 },
 "nbformat": 4,
 "nbformat_minor": 2
}
